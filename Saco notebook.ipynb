{
 "cells": [
  {
   "cell_type": "code",
   "execution_count": 1,
   "metadata": {
    "colab": {
     "base_uri": "https://localhost:8080/",
     "height": 564
    },
    "colab_type": "code",
    "executionInfo": {
     "elapsed": 6913,
     "status": "ok",
     "timestamp": 1599006299515,
     "user": {
      "displayName": "fan roid",
      "photoUrl": "",
      "userId": "13892271252083538728"
     },
     "user_tz": -330
    },
    "id": "PGI-dSXIQTDT",
    "outputId": "4f88691b-ebb0-4b50-a6c3-e43df4c041b6"
   },
   "outputs": [
    {
     "name": "stdout",
     "output_type": "stream",
     "text": [
      "[nltk_data] Downloading package punkt to /root/nltk_data...\n",
      "[nltk_data]   Unzipping tokenizers/punkt.zip.\n",
      "[nltk_data] Downloading package wordnet to /root/nltk_data...\n",
      "[nltk_data]   Unzipping corpora/wordnet.zip.\n",
      "[nltk_data] Downloading package stopwords to /root/nltk_data...\n",
      "[nltk_data]   Unzipping corpora/stopwords.zip.\n",
      "Collecting bpemb\n",
      "  Downloading https://files.pythonhosted.org/packages/91/77/3f0f53856e86af32b1d3c86652815277f7b5f880002584eb30db115b6df5/bpemb-0.3.2-py3-none-any.whl\n",
      "Requirement already satisfied: tqdm in /usr/local/lib/python3.6/dist-packages (from bpemb) (4.41.1)\n",
      "Requirement already satisfied: numpy in /usr/local/lib/python3.6/dist-packages (from bpemb) (1.18.5)\n",
      "Requirement already satisfied: gensim in /usr/local/lib/python3.6/dist-packages (from bpemb) (3.6.0)\n",
      "Collecting sentencepiece\n",
      "\u001b[?25l  Downloading https://files.pythonhosted.org/packages/d4/a4/d0a884c4300004a78cca907a6ff9a5e9fe4f090f5d95ab341c53d28cbc58/sentencepiece-0.1.91-cp36-cp36m-manylinux1_x86_64.whl (1.1MB)\n",
      "\u001b[K     |████████████████████████████████| 1.1MB 8.1MB/s \n",
      "\u001b[?25hRequirement already satisfied: requests in /usr/local/lib/python3.6/dist-packages (from bpemb) (2.23.0)\n",
      "Requirement already satisfied: six>=1.5.0 in /usr/local/lib/python3.6/dist-packages (from gensim->bpemb) (1.15.0)\n",
      "Requirement already satisfied: smart-open>=1.2.1 in /usr/local/lib/python3.6/dist-packages (from gensim->bpemb) (2.1.0)\n",
      "Requirement already satisfied: scipy>=0.18.1 in /usr/local/lib/python3.6/dist-packages (from gensim->bpemb) (1.4.1)\n",
      "Requirement already satisfied: chardet<4,>=3.0.2 in /usr/local/lib/python3.6/dist-packages (from requests->bpemb) (3.0.4)\n",
      "Requirement already satisfied: urllib3!=1.25.0,!=1.25.1,<1.26,>=1.21.1 in /usr/local/lib/python3.6/dist-packages (from requests->bpemb) (1.24.3)\n",
      "Requirement already satisfied: idna<3,>=2.5 in /usr/local/lib/python3.6/dist-packages (from requests->bpemb) (2.10)\n",
      "Requirement already satisfied: certifi>=2017.4.17 in /usr/local/lib/python3.6/dist-packages (from requests->bpemb) (2020.6.20)\n",
      "Requirement already satisfied: boto in /usr/local/lib/python3.6/dist-packages (from smart-open>=1.2.1->gensim->bpemb) (2.49.0)\n",
      "Requirement already satisfied: boto3 in /usr/local/lib/python3.6/dist-packages (from smart-open>=1.2.1->gensim->bpemb) (1.14.48)\n",
      "Requirement already satisfied: jmespath<1.0.0,>=0.7.1 in /usr/local/lib/python3.6/dist-packages (from boto3->smart-open>=1.2.1->gensim->bpemb) (0.10.0)\n",
      "Requirement already satisfied: botocore<1.18.0,>=1.17.48 in /usr/local/lib/python3.6/dist-packages (from boto3->smart-open>=1.2.1->gensim->bpemb) (1.17.48)\n",
      "Requirement already satisfied: s3transfer<0.4.0,>=0.3.0 in /usr/local/lib/python3.6/dist-packages (from boto3->smart-open>=1.2.1->gensim->bpemb) (0.3.3)\n",
      "Requirement already satisfied: docutils<0.16,>=0.10 in /usr/local/lib/python3.6/dist-packages (from botocore<1.18.0,>=1.17.48->boto3->smart-open>=1.2.1->gensim->bpemb) (0.15.2)\n",
      "Requirement already satisfied: python-dateutil<3.0.0,>=2.1 in /usr/local/lib/python3.6/dist-packages (from botocore<1.18.0,>=1.17.48->boto3->smart-open>=1.2.1->gensim->bpemb) (2.8.1)\n",
      "Installing collected packages: sentencepiece, bpemb\n",
      "Successfully installed bpemb-0.3.2 sentencepiece-0.1.91\n"
     ]
    }
   ],
   "source": [
    "import nltk\n",
    "nltk.download('punkt')\n",
    "nltk.download('wordnet')\n",
    "\n",
    "nltk.download('stopwords')\n",
    "!pip install bpemb"
   ]
  },
  {
   "cell_type": "code",
   "execution_count": 2,
   "metadata": {
    "colab": {},
    "colab_type": "code",
    "executionInfo": {
     "elapsed": 1415,
     "status": "ok",
     "timestamp": 1599006311286,
     "user": {
      "displayName": "fan roid",
      "photoUrl": "",
      "userId": "13892271252083538728"
     },
     "user_tz": -330
    },
    "id": "b5dftQTPQraH"
   },
   "outputs": [],
   "source": [
    "import os\n",
    "import numpy\n",
    "import pandas as pd\n",
    "import re\n"
   ]
  },
  {
   "cell_type": "code",
   "execution_count": 3,
   "metadata": {
    "colab": {},
    "colab_type": "code",
    "executionInfo": {
     "elapsed": 1287,
     "status": "ok",
     "timestamp": 1599006314623,
     "user": {
      "displayName": "fan roid",
      "photoUrl": "",
      "userId": "13892271252083538728"
     },
     "user_tz": -330
    },
    "id": "NdYNTyciQwFd"
   },
   "outputs": [],
   "source": [
    "def clean_text_doc(text):\n",
    "    stpwrds=[]\n",
    "    unwanted=['ـ','_','\"','！',\"'\",'=','@','&','%','.',',',':','\\\\','$','^','<','>','!','?','{','}',';','\\n','\\t','(',')','[',']','/','*','+','#','\\u200c','\\ufeff','-','_','|']\n",
    "    wanted=['A', 'B', 'C', 'D', 'E', 'F', 'G', 'H','I','J','K','L','M','N','O','P','Q','R','S','T','U','V','W','X','Y','Z','a','b','c','d','e','f','g','h','i','j','k','l','m','n','o',\n",
    " 'p','q','r','s','t','u','v','w','x','y','z']\n",
    "    for i in unwanted:\n",
    "        text = text.replace(i,'')\n",
    "    sent=[]\n",
    "    text=text.split(' ')\n",
    "    \n",
    "    for word in text:\n",
    "        \n",
    "        if word not in stpwrds and word.isalpha():\n",
    "            \n",
    "            sent.append(word)\n",
    "    return ' '.join(sent)"
   ]
  },
  {
   "cell_type": "code",
   "execution_count": 4,
   "metadata": {
    "colab": {},
    "colab_type": "code",
    "executionInfo": {
     "elapsed": 2887,
     "status": "ok",
     "timestamp": 1599006317298,
     "user": {
      "displayName": "fan roid",
      "photoUrl": "",
      "userId": "13892271252083538728"
     },
     "user_tz": -330
    },
    "id": "13V-YnhMQyj6"
   },
   "outputs": [],
   "source": [
    "data=pd.read_csv('/content/drive/My Drive/SentimentFire/malayalam_train.tsv',sep='\\t')\n",
    "\n",
    "test=pd.read_csv('/content/drive/My Drive/SentimentFire/malayalam_test - malayalam_test.tsv',sep='\\t')\n",
    "\n",
    "data['text']=data['text'].apply(lambda x:clean_text_doc(x))\n",
    "test['text']=test['text'].apply(lambda x:clean_text_doc(x))"
   ]
  },
  {
   "cell_type": "code",
   "execution_count": 5,
   "metadata": {
    "colab": {
     "base_uri": "https://localhost:8080/",
     "height": 204
    },
    "colab_type": "code",
    "executionInfo": {
     "elapsed": 1338,
     "status": "ok",
     "timestamp": 1599006319613,
     "user": {
      "displayName": "fan roid",
      "photoUrl": "",
      "userId": "13892271252083538728"
     },
     "user_tz": -330
    },
    "id": "gsU0nY1JJr5e",
    "outputId": "7988abf6-a366-4973-af70-2bc815b7c224"
   },
   "outputs": [
    {
     "data": {
      "text/html": [
       "<div>\n",
       "<style scoped>\n",
       "    .dataframe tbody tr th:only-of-type {\n",
       "        vertical-align: middle;\n",
       "    }\n",
       "\n",
       "    .dataframe tbody tr th {\n",
       "        vertical-align: top;\n",
       "    }\n",
       "\n",
       "    .dataframe thead th {\n",
       "        text-align: right;\n",
       "    }\n",
       "</style>\n",
       "<table border=\"1\" class=\"dataframe\">\n",
       "  <thead>\n",
       "    <tr style=\"text-align: right;\">\n",
       "      <th></th>\n",
       "      <th>id</th>\n",
       "      <th>text</th>\n",
       "    </tr>\n",
       "  </thead>\n",
       "  <tbody>\n",
       "    <tr>\n",
       "      <th>0</th>\n",
       "      <td>ml_sen_1</td>\n",
       "      <td>Bollywood film Newton inte remake aano</td>\n",
       "    </tr>\n",
       "    <tr>\n",
       "      <th>1</th>\n",
       "      <td>ml_sen_2</td>\n",
       "      <td>endukond viewrs koodunnilla ippozhum aayitollu</td>\n",
       "    </tr>\n",
       "    <tr>\n",
       "      <th>2</th>\n",
       "      <td>ml_sen_3</td>\n",
       "      <td>Mara paazhu mega mairananil ninnum ethil koodu...</td>\n",
       "    </tr>\n",
       "    <tr>\n",
       "      <th>3</th>\n",
       "      <td>ml_sen_4</td>\n",
       "      <td>Video nay cang xem cang thit</td>\n",
       "    </tr>\n",
       "    <tr>\n",
       "      <th>4</th>\n",
       "      <td>ml_sen_5</td>\n",
       "      <td>Sunny chechiye kaanan vannathu njan maathram aano</td>\n",
       "    </tr>\n",
       "  </tbody>\n",
       "</table>\n",
       "</div>"
      ],
      "text/plain": [
       "         id                                               text\n",
       "0  ml_sen_1             Bollywood film Newton inte remake aano\n",
       "1  ml_sen_2     endukond viewrs koodunnilla ippozhum aayitollu\n",
       "2  ml_sen_3  Mara paazhu mega mairananil ninnum ethil koodu...\n",
       "3  ml_sen_4                       Video nay cang xem cang thit\n",
       "4  ml_sen_5  Sunny chechiye kaanan vannathu njan maathram aano"
      ]
     },
     "execution_count": 5,
     "metadata": {
      "tags": []
     },
     "output_type": "execute_result"
    }
   ],
   "source": [
    "test.head()"
   ]
  },
  {
   "cell_type": "code",
   "execution_count": 6,
   "metadata": {
    "colab": {
     "base_uri": "https://localhost:8080/",
     "height": 139
    },
    "colab_type": "code",
    "executionInfo": {
     "elapsed": 5001,
     "status": "ok",
     "timestamp": 1599006325134,
     "user": {
      "displayName": "fan roid",
      "photoUrl": "",
      "userId": "13892271252083538728"
     },
     "user_tz": -330
    },
    "id": "NJjPAjUgQ08A",
    "outputId": "fd9f2aa6-0baa-4deb-ae4e-4a37023f958a"
   },
   "outputs": [
    {
     "name": "stdout",
     "output_type": "stream",
     "text": [
      "downloading https://nlp.h-its.org/bpemb/en/en.wiki.bpe.vs10000.model\n"
     ]
    },
    {
     "name": "stderr",
     "output_type": "stream",
     "text": [
      "100%|██████████| 400869/400869 [00:00<00:00, 598192.67B/s]\n"
     ]
    },
    {
     "name": "stdout",
     "output_type": "stream",
     "text": [
      "downloading https://nlp.h-its.org/bpemb/en/en.wiki.bpe.vs10000.d100.w2v.bin.tar.gz\n"
     ]
    },
    {
     "name": "stderr",
     "output_type": "stream",
     "text": [
      "100%|██████████| 3784656/3784656 [00:01<00:00, 3173473.68B/s]\n",
      "/usr/local/lib/python3.6/dist-packages/smart_open/smart_open_lib.py:254: UserWarning: This function is deprecated, use smart_open.open instead. See the migration notes for details: https://github.com/RaRe-Technologies/smart_open/blob/master/README.rst#migrating-to-the-new-open-function\n",
      "  'See the migration notes for details: %s' % _MIGRATION_NOTES_URL\n"
     ]
    }
   ],
   "source": [
    ">>> from bpemb import BPEmb\n",
    "# load English BPEmb model with default vocabulary size (10k) and 50-dimensional embeddings\n",
    ">>> bpemb_en = BPEmb(lang=\"en\",vs=10000)"
   ]
  },
  {
   "cell_type": "code",
   "execution_count": 27,
   "metadata": {
    "colab": {
     "base_uri": "https://localhost:8080/",
     "height": 34
    },
    "colab_type": "code",
    "executionInfo": {
     "elapsed": 1310,
     "status": "ok",
     "timestamp": 1599007735852,
     "user": {
      "displayName": "fan roid",
      "photoUrl": "",
      "userId": "13892271252083538728"
     },
     "user_tz": -330
    },
    "id": "t_v2e1QJSJI6",
    "outputId": "d8fab46e-62c8-4ae7-c63f-63cdc39299de"
   },
   "outputs": [
    {
     "data": {
      "text/plain": [
       "['▁ind', 'i', 'ay', 'ile', '▁friends']"
      ]
     },
     "execution_count": 27,
     "metadata": {
      "tags": []
     },
     "output_type": "execute_result"
    }
   ],
   "source": [
    "bpemb_en.encode('Indiayile friends')"
   ]
  },
  {
   "cell_type": "code",
   "execution_count": 7,
   "metadata": {
    "colab": {},
    "colab_type": "code",
    "executionInfo": {
     "elapsed": 5607,
     "status": "ok",
     "timestamp": 1599006326531,
     "user": {
      "displayName": "fan roid",
      "photoUrl": "",
      "userId": "13892271252083538728"
     },
     "user_tz": -330
    },
    "id": "mq_GPeYjRC68"
   },
   "outputs": [],
   "source": [
    "import nltk\n",
    "from nltk.tokenize import sent_tokenize, word_tokenize\n",
    "import warnings\n",
    "warnings.filterwarnings(action='ignore')\n",
    "import pandas as pd\n",
    "import gensim\n",
    "from gensim.models import Word2Vec\n",
    "import numpy as np\n",
    "import csv\n",
    "import tensorflow as tf\n",
    "import numpy as np\n",
    "from tensorflow.keras.preprocessing.text import Tokenizer\n",
    "from tensorflow.keras.preprocessing.sequence import pad_sequences"
   ]
  },
  {
   "cell_type": "code",
   "execution_count": 8,
   "metadata": {
    "colab": {},
    "colab_type": "code",
    "executionInfo": {
     "elapsed": 1425,
     "status": "ok",
     "timestamp": 1599006329733,
     "user": {
      "displayName": "fan roid",
      "photoUrl": "",
      "userId": "13892271252083538728"
     },
     "user_tz": -330
    },
    "id": "V62b0URCRFqp"
   },
   "outputs": [],
   "source": [
    "texts=[]\n",
    "for i in data.text:\n",
    "    temp=[]\n",
    "    for j in bpemb_en.encode(i):\n",
    "      if j.startswith('▁'):j=j[1:]\n",
    "      temp.append(j.lower())\n",
    "    texts.append(temp)"
   ]
  },
  {
   "cell_type": "code",
   "execution_count": 22,
   "metadata": {
    "colab": {
     "base_uri": "https://localhost:8080/",
     "height": 34
    },
    "colab_type": "code",
    "executionInfo": {
     "elapsed": 1250,
     "status": "ok",
     "timestamp": 1599006835203,
     "user": {
      "displayName": "fan roid",
      "photoUrl": "",
      "userId": "13892271252083538728"
     },
     "user_tz": -330
    },
    "id": "js46yafqNFai",
    "outputId": "36b736a0-197a-4cd8-9126-b39373b3187d"
   },
   "outputs": [
    {
     "data": {
      "text/plain": [
       "['i', 'a', 'm', 'a', 'k', 'att', 'a', 'mam', 'mo', 'ok', 'ka', 'fan']"
      ]
     },
     "execution_count": 22,
     "metadata": {
      "tags": []
     },
     "output_type": "execute_result"
    }
   ],
   "source": [
    "texts[9]"
   ]
  },
  {
   "cell_type": "code",
   "execution_count": 21,
   "metadata": {
    "colab": {
     "base_uri": "https://localhost:8080/",
     "height": 35
    },
    "colab_type": "code",
    "executionInfo": {
     "elapsed": 1376,
     "status": "ok",
     "timestamp": 1599006815636,
     "user": {
      "displayName": "fan roid",
      "photoUrl": "",
      "userId": "13892271252083538728"
     },
     "user_tz": -330
    },
    "id": "3m1Zo-8YNKwe",
    "outputId": "e44e4218-2448-406a-d8cd-ea0d6a15dddc"
   },
   "outputs": [
    {
     "data": {
      "application/vnd.google.colaboratory.intrinsic+json": {
       "type": "string"
      },
      "text/plain": [
       "'I a m a katta mammookka fan'"
      ]
     },
     "execution_count": 21,
     "metadata": {
      "tags": []
     },
     "output_type": "execute_result"
    }
   ],
   "source": [
    "data.text[9]"
   ]
  },
  {
   "cell_type": "code",
   "execution_count": null,
   "metadata": {
    "colab": {},
    "colab_type": "code",
    "id": "0OI_cgvYRHwS"
   },
   "outputs": [],
   "source": [
    "#using skip gram\n",
    "w2v = gensim.models.Word2Vec(texts, min_count = 1, size = 100, window = 3,sg=1) "
   ]
  },
  {
   "cell_type": "code",
   "execution_count": null,
   "metadata": {
    "colab": {},
    "colab_type": "code",
    "id": "I1QnbH_4RLmT"
   },
   "outputs": [],
   "source": [
    "vocab=list(w2v.wv.vocab)"
   ]
  },
  {
   "cell_type": "code",
   "execution_count": null,
   "metadata": {
    "colab": {},
    "colab_type": "code",
    "id": "kyVE0-WwRNpy"
   },
   "outputs": [],
   "source": [
    "embeddings_index = {}\n",
    "for line in data.text:\n",
    "    words = bpemb_en.encode(line)\n",
    "    for word in words:\n",
    "      vec=[]\n",
    "      if word.startswith('▁'):word=word[1:]\n",
    "      word=word.lower()\n",
    "      vec.extend(w2v[word])\n",
    "        \n",
    "      embeddings_index[word] =vec"
   ]
  },
  {
   "cell_type": "code",
   "execution_count": null,
   "metadata": {
    "colab": {
     "base_uri": "https://localhost:8080/",
     "height": 34
    },
    "colab_type": "code",
    "executionInfo": {
     "elapsed": 2477,
     "status": "ok",
     "timestamp": 1597824335267,
     "user": {
      "displayName": "fan roid",
      "photoUrl": "",
      "userId": "13892271252083538728"
     },
     "user_tz": -330
    },
    "id": "5GdHXm2CRS_J",
    "outputId": "0021c008-1c6e-4718-f296-487768d529fc"
   },
   "outputs": [
    {
     "name": "stdout",
     "output_type": "stream",
     "text": [
      "Found 12628 unique tokens.\n"
     ]
    }
   ],
   "source": [
    "# The maximum number of words to be used. (most frequent)\n",
    "MAX_NB_WORDS = 50000\n",
    "# Max number of words in each complaint.\n",
    "MAX_SEQUENCE_LENGTH = 250\n",
    "# This is fixed.\n",
    "EMBEDDING_DIM = 100\n",
    "\n",
    "tokenizer = Tokenizer(num_words=MAX_NB_WORDS, filters='!\"#$%&()*+,-./:;<=>?@[\\]^_`{|}~', lower=True)\n",
    "tokenizer.fit_on_texts(data['text'].values)\n",
    "word_index = tokenizer.word_index\n",
    "print('Found %s unique tokens.' % len(word_index))"
   ]
  },
  {
   "cell_type": "code",
   "execution_count": null,
   "metadata": {
    "colab": {
     "base_uri": "https://localhost:8080/",
     "height": 34
    },
    "colab_type": "code",
    "executionInfo": {
     "elapsed": 821,
     "status": "ok",
     "timestamp": 1597824335268,
     "user": {
      "displayName": "fan roid",
      "photoUrl": "",
      "userId": "13892271252083538728"
     },
     "user_tz": -330
    },
    "id": "UUmvkSNoRebQ",
    "outputId": "dbd01360-d4c6-4dcf-92b0-612466d7f6a4"
   },
   "outputs": [
    {
     "name": "stdout",
     "output_type": "stream",
     "text": [
      "Shape of data tensor: (4851, 250)\n"
     ]
    }
   ],
   "source": [
    "X = tokenizer.texts_to_sequences(data['text'].values)\n",
    "X = pad_sequences(X, maxlen=MAX_SEQUENCE_LENGTH)\n",
    "print('Shape of data tensor:', X.shape)"
   ]
  },
  {
   "cell_type": "code",
   "execution_count": null,
   "metadata": {
    "colab": {},
    "colab_type": "code",
    "id": "eHsILqS7Rg8n"
   },
   "outputs": [],
   "source": []
  },
  {
   "cell_type": "code",
   "execution_count": null,
   "metadata": {
    "colab": {
     "base_uri": "https://localhost:8080/",
     "height": 34
    },
    "colab_type": "code",
    "executionInfo": {
     "elapsed": 1114,
     "status": "ok",
     "timestamp": 1597824336481,
     "user": {
      "displayName": "fan roid",
      "photoUrl": "",
      "userId": "13892271252083538728"
     },
     "user_tz": -330
    },
    "id": "8TuF5F2wRi3V",
    "outputId": "3dc7b518-0793-480e-e31f-85ac22e119c4"
   },
   "outputs": [
    {
     "name": "stdout",
     "output_type": "stream",
     "text": [
      "Shape of label tensor: (4851, 5)\n"
     ]
    }
   ],
   "source": [
    "Y = pd.get_dummies(data.category).values\n",
    "print('Shape of label tensor:', Y.shape)"
   ]
  },
  {
   "cell_type": "code",
   "execution_count": null,
   "metadata": {
    "colab": {},
    "colab_type": "code",
    "id": "rBAs2l-pRrDr"
   },
   "outputs": [],
   "source": [
    "X_train,Y_train=X,Y"
   ]
  },
  {
   "cell_type": "code",
   "execution_count": null,
   "metadata": {
    "colab": {},
    "colab_type": "code",
    "id": "e-mxMPCLRtZv"
   },
   "outputs": [],
   "source": [
    "from keras.models import Sequential\n",
    "from keras.layers import Dense, Embedding, LSTM, SpatialDropout1D,Bidirectional\n",
    "from keras.callbacks import EarlyStopping"
   ]
  },
  {
   "cell_type": "code",
   "execution_count": null,
   "metadata": {
    "colab": {
     "base_uri": "https://localhost:8080/",
     "height": 384
    },
    "colab_type": "code",
    "executionInfo": {
     "elapsed": 1530,
     "status": "ok",
     "timestamp": 1597824339062,
     "user": {
      "displayName": "fan roid",
      "photoUrl": "",
      "userId": "13892271252083538728"
     },
     "user_tz": -330
    },
    "id": "UG8xlG-qRvWP",
    "outputId": "2a8a7da8-db24-4d1c-e9ce-2f3198ed2cfe"
   },
   "outputs": [
    {
     "name": "stdout",
     "output_type": "stream",
     "text": [
      "WARNING:tensorflow:Layer lstm_1 will not use cuDNN kernel since it doesn't meet the cuDNN kernel criteria. It will use generic GPU kernel as fallback when running on GPU\n",
      "WARNING:tensorflow:Layer lstm_1 will not use cuDNN kernel since it doesn't meet the cuDNN kernel criteria. It will use generic GPU kernel as fallback when running on GPU\n",
      "WARNING:tensorflow:Layer lstm_1 will not use cuDNN kernel since it doesn't meet the cuDNN kernel criteria. It will use generic GPU kernel as fallback when running on GPU\n",
      "Model: \"sequential_2\"\n",
      "_________________________________________________________________\n",
      "Layer (type)                 Output Shape              Param #   \n",
      "=================================================================\n",
      "embedding_2 (Embedding)      (None, 250, 200)          10000000  \n",
      "_________________________________________________________________\n",
      "spatial_dropout1d_2 (Spatial (None, 250, 200)          0         \n",
      "_________________________________________________________________\n",
      "bidirectional_1 (Bidirection (None, 200)               240800    \n",
      "_________________________________________________________________\n",
      "dense_1 (Dense)              (None, 5)                 1005      \n",
      "=================================================================\n",
      "Total params: 10,241,805\n",
      "Trainable params: 10,241,805\n",
      "Non-trainable params: 0\n",
      "_________________________________________________________________\n",
      "None\n"
     ]
    }
   ],
   "source": [
    "model = Sequential()\n",
    "model.add(Embedding(MAX_NB_WORDS, EMBEDDING_DIM, input_length=X.shape[1]))\n",
    "model.add(SpatialDropout1D(0.2))\n",
    "model.add(Bidirectional(LSTM(100, dropout=0.2, recurrent_dropout=0.2)))\n",
    "model.add(Dense(5, activation='softmax'))\n",
    "model.compile(loss='categorical_crossentropy', optimizer='adam', metrics=['accuracy'])\n",
    "print(model.summary())"
   ]
  },
  {
   "cell_type": "code",
   "execution_count": null,
   "metadata": {
    "colab": {
     "base_uri": "https://localhost:8080/",
     "height": 245
    },
    "colab_type": "code",
    "executionInfo": {
     "elapsed": 414433,
     "status": "ok",
     "timestamp": 1597824755407,
     "user": {
      "displayName": "fan roid",
      "photoUrl": "",
      "userId": "13892271252083538728"
     },
     "user_tz": -330
    },
    "id": "OJbcXNnCSW6m",
    "outputId": "9716231f-ba21-4dba-ba6f-7f565eb82b48"
   },
   "outputs": [
    {
     "name": "stdout",
     "output_type": "stream",
     "text": [
      "Epoch 1/10\n",
      "35/35 [==============================] - 67s 2s/step - loss: 1.4089 - accuracy: 0.4165 - val_loss: 1.3314 - val_accuracy: 0.4527\n",
      "Epoch 2/10\n",
      "35/35 [==============================] - 66s 2s/step - loss: 1.1370 - accuracy: 0.5734 - val_loss: 1.0408 - val_accuracy: 0.6152\n",
      "Epoch 3/10\n",
      "35/35 [==============================] - 66s 2s/step - loss: 0.6583 - accuracy: 0.7826 - val_loss: 0.9137 - val_accuracy: 0.6667\n",
      "Epoch 4/10\n",
      "35/35 [==============================] - 66s 2s/step - loss: 0.3458 - accuracy: 0.8788 - val_loss: 0.9648 - val_accuracy: 0.6584\n",
      "Epoch 5/10\n",
      "35/35 [==============================] - 67s 2s/step - loss: 0.1892 - accuracy: 0.9430 - val_loss: 1.0429 - val_accuracy: 0.6646\n",
      "Epoch 6/10\n",
      "35/35 [==============================] - 67s 2s/step - loss: 0.1096 - accuracy: 0.9704 - val_loss: 1.1580 - val_accuracy: 0.6564\n"
     ]
    }
   ],
   "source": [
    "epochs = 10\n",
    "batch_size = 128\n",
    "\n",
    "history = model.fit(X_train, Y_train, epochs=epochs, batch_size=batch_size,validation_split=0.1,callbacks=[EarlyStopping(monitor='val_loss', patience=3, min_delta=0.0001)])"
   ]
  },
  {
   "cell_type": "code",
   "execution_count": null,
   "metadata": {
    "colab": {
     "base_uri": "https://localhost:8080/",
     "height": 176
    },
    "colab_type": "code",
    "executionInfo": {
     "elapsed": 950142,
     "status": "ok",
     "timestamp": 1597825291623,
     "user": {
      "displayName": "fan roid",
      "photoUrl": "",
      "userId": "13892271252083538728"
     },
     "user_tz": -330
    },
    "id": "6Pr-v8PwSfK3",
    "outputId": "df7eb83a-eb77-4b3e-c17e-09a7a0c204a1"
   },
   "outputs": [
    {
     "name": "stdout",
     "output_type": "stream",
     "text": [
      "Epoch 1/10\n",
      "69/69 [==============================] - 132s 2s/step - loss: 0.0773 - accuracy: 0.9778 - val_loss: 1.2306 - val_accuracy: 0.6728\n",
      "Epoch 2/10\n",
      "69/69 [==============================] - 132s 2s/step - loss: 0.0598 - accuracy: 0.9805 - val_loss: 1.3281 - val_accuracy: 0.6420\n",
      "Epoch 3/10\n",
      "69/69 [==============================] - 131s 2s/step - loss: 0.0412 - accuracy: 0.9869 - val_loss: 1.4239 - val_accuracy: 0.6296\n",
      "Epoch 4/10\n",
      "69/69 [==============================] - 133s 2s/step - loss: 0.0275 - accuracy: 0.9908 - val_loss: 1.3973 - val_accuracy: 0.6523\n"
     ]
    }
   ],
   "source": [
    "epochs = 10\n",
    "batch_size = 64\n",
    "\n",
    "history = model.fit(X_train, Y_train, epochs=epochs, batch_size=batch_size,validation_split=0.1,callbacks=[EarlyStopping(monitor='val_loss', patience=3, min_delta=0.0001)])"
   ]
  },
  {
   "cell_type": "code",
   "execution_count": null,
   "metadata": {
    "colab": {
     "base_uri": "https://localhost:8080/",
     "height": 211
    },
    "colab_type": "code",
    "executionInfo": {
     "elapsed": 2275447,
     "status": "ok",
     "timestamp": 1597826617395,
     "user": {
      "displayName": "fan roid",
      "photoUrl": "",
      "userId": "13892271252083538728"
     },
     "user_tz": -330
    },
    "id": "EaB3aB72Sras",
    "outputId": "b4ce8004-0148-4601-deeb-106e61f729f3"
   },
   "outputs": [
    {
     "name": "stdout",
     "output_type": "stream",
     "text": [
      "Epoch 1/10\n",
      "137/137 [==============================] - 264s 2s/step - loss: 0.0308 - accuracy: 0.9906 - val_loss: 1.5375 - val_accuracy: 0.6440\n",
      "Epoch 2/10\n",
      "137/137 [==============================] - 264s 2s/step - loss: 0.0319 - accuracy: 0.9897 - val_loss: 1.5294 - val_accuracy: 0.6502\n",
      "Epoch 3/10\n",
      "137/137 [==============================] - 265s 2s/step - loss: 0.0212 - accuracy: 0.9940 - val_loss: 1.7260 - val_accuracy: 0.6337\n",
      "Epoch 4/10\n",
      "137/137 [==============================] - 262s 2s/step - loss: 0.0182 - accuracy: 0.9940 - val_loss: 2.1008 - val_accuracy: 0.6049\n",
      "Epoch 5/10\n",
      "137/137 [==============================] - 261s 2s/step - loss: 0.0191 - accuracy: 0.9922 - val_loss: 2.0402 - val_accuracy: 0.6091\n"
     ]
    }
   ],
   "source": [
    "epochs = 10\n",
    "batch_size = 32\n",
    "\n",
    "history = model.fit(X_train, Y_train, epochs=epochs, batch_size=batch_size,validation_split=0.1,callbacks=[EarlyStopping(monitor='val_loss', patience=3, min_delta=0.0001)])"
   ]
  },
  {
   "cell_type": "code",
   "execution_count": null,
   "metadata": {
    "colab": {
     "base_uri": "https://localhost:8080/",
     "height": 176
    },
    "colab_type": "code",
    "executionInfo": {
     "elapsed": 1155931,
     "status": "ok",
     "timestamp": 1597828689565,
     "user": {
      "displayName": "fan roid",
      "photoUrl": "",
      "userId": "13892271252083538728"
     },
     "user_tz": -330
    },
    "id": "M01Id-YySt8p",
    "outputId": "5a4ee2f7-8e14-4206-a287-e13853bfed8f"
   },
   "outputs": [
    {
     "name": "stdout",
     "output_type": "stream",
     "text": [
      "Epoch 1/10\n",
      "273/273 [==============================] - 518s 2s/step - loss: 0.0402 - accuracy: 0.9872 - val_loss: 1.5963 - val_accuracy: 0.6379\n",
      "Epoch 2/10\n",
      "273/273 [==============================] - 517s 2s/step - loss: 0.0293 - accuracy: 0.9895 - val_loss: 1.8612 - val_accuracy: 0.6255\n",
      "Epoch 3/10\n",
      "273/273 [==============================] - 513s 2s/step - loss: 0.0228 - accuracy: 0.9924 - val_loss: 1.6752 - val_accuracy: 0.6317\n",
      "Epoch 4/10\n",
      "273/273 [==============================] - 516s 2s/step - loss: 0.0151 - accuracy: 0.9954 - val_loss: 1.7863 - val_accuracy: 0.6317\n"
     ]
    }
   ],
   "source": [
    "epochs = 10\n",
    "batch_size = 16\n",
    "\n",
    "history = model.fit(X_train, Y_train, epochs=epochs, batch_size=batch_size,validation_split=0.1,callbacks=[EarlyStopping(monitor='val_loss', patience=3, min_delta=0.0001)])"
   ]
  },
  {
   "cell_type": "code",
   "execution_count": null,
   "metadata": {
    "colab": {},
    "colab_type": "code",
    "id": "4KAl0q7TSwgh"
   },
   "outputs": [],
   "source": [
    "def prediction(text):\n",
    "\n",
    "  seq = tokenizer.texts_to_sequences([text])\n",
    "  padded = pad_sequences(seq, maxlen=MAX_SEQUENCE_LENGTH)\n",
    "  pred = model.predict(padded)\n",
    "  \n",
    "  labels = ['Mixed_feelings ','Negative ','Positive ','not-malayalam ','unknown_state ']\n",
    "\n",
    "  return labels[np.argmax(pred)]"
   ]
  },
  {
   "cell_type": "code",
   "execution_count": null,
   "metadata": {
    "colab": {},
    "colab_type": "code",
    "id": "kKeeO4tpc_9Z"
   },
   "outputs": [],
   "source": [
    "spreds=[]\n",
    "for txt in test.text.values:\n",
    "  spreds.append(prediction(txt))"
   ]
  },
  {
   "cell_type": "code",
   "execution_count": null,
   "metadata": {
    "colab": {
     "base_uri": "https://localhost:8080/",
     "height": 104
    },
    "colab_type": "code",
    "executionInfo": {
     "elapsed": 1020,
     "status": "ok",
     "timestamp": 1597831748479,
     "user": {
      "displayName": "fan roid",
      "photoUrl": "",
      "userId": "13892271252083538728"
     },
     "user_tz": -330
    },
    "id": "1TJSc9kskI8N",
    "outputId": "e4d2a679-a9bb-4eab-d61a-5318f956c09b"
   },
   "outputs": [
    {
     "data": {
      "text/plain": [
       "{'Mixed_feelings ',\n",
       " 'Negative ',\n",
       " 'Positive ',\n",
       " 'not-malayalam ',\n",
       " 'unknown_state '}"
      ]
     },
     "execution_count": 148,
     "metadata": {
      "tags": []
     },
     "output_type": "execute_result"
    }
   ],
   "source": [
    "set(spreds)"
   ]
  },
  {
   "cell_type": "code",
   "execution_count": null,
   "metadata": {
    "colab": {},
    "colab_type": "code",
    "id": "j8YSUGI-kOPQ"
   },
   "outputs": [],
   "source": [
    "#set(test.category)"
   ]
  },
  {
   "cell_type": "code",
   "execution_count": null,
   "metadata": {
    "colab": {},
    "colab_type": "code",
    "id": "NTJixstmkSIm"
   },
   "outputs": [],
   "source": [
    "#from sklearn.metrics import classification_report\n",
    "#print(classification_report(spreds,test.category))"
   ]
  },
  {
   "cell_type": "code",
   "execution_count": null,
   "metadata": {
    "colab": {},
    "colab_type": "code",
    "id": "dClJImmxkni2"
   },
   "outputs": [],
   "source": [
    "preds=[]\n",
    "for txt in data.text.values:\n",
    "  preds.append(prediction(txt))"
   ]
  },
  {
   "cell_type": "code",
   "execution_count": null,
   "metadata": {
    "colab": {
     "base_uri": "https://localhost:8080/",
     "height": 225
    },
    "colab_type": "code",
    "executionInfo": {
     "elapsed": 629,
     "status": "ok",
     "timestamp": 1597822053994,
     "user": {
      "displayName": "fan roid",
      "photoUrl": "",
      "userId": "13892271252083538728"
     },
     "user_tz": -330
    },
    "id": "Fa2WcBHKktmg",
    "outputId": "b2d038f3-4afb-4dd7-8a5d-d1829285d139"
   },
   "outputs": [
    {
     "name": "stdout",
     "output_type": "stream",
     "text": [
      "                 precision    recall  f1-score   support\n",
      "\n",
      "Mixed_feelings        0.91      0.92      0.92       286\n",
      "      Negative        0.95      0.97      0.96       541\n",
      "      Positive        0.96      0.97      0.97      1995\n",
      " not-malayalam        0.97      0.93      0.95       673\n",
      " unknown_state        0.96      0.96      0.96      1356\n",
      "\n",
      "       accuracy                           0.96      4851\n",
      "      macro avg       0.95      0.95      0.95      4851\n",
      "   weighted avg       0.96      0.96      0.96      4851\n",
      "\n"
     ]
    }
   ],
   "source": [
    "from sklearn.metrics import classification_report\n",
    "print(classification_report(preds,data.category))"
   ]
  },
  {
   "cell_type": "code",
   "execution_count": null,
   "metadata": {
    "colab": {},
    "colab_type": "code",
    "id": "eu4rD6bunar-"
   },
   "outputs": [],
   "source": [
    "model_save_path = \"subwords_model.h5\"\n",
    "model.save(model_save_path)"
   ]
  },
  {
   "cell_type": "code",
   "execution_count": null,
   "metadata": {
    "colab": {},
    "colab_type": "code",
    "id": "Z5MlrCHOoBN6"
   },
   "outputs": [],
   "source": [
    "\n",
    "\n",
    "import os\n",
    "import numpy\n",
    "import pandas as pd\n",
    "import re\n",
    "import glob\n",
    "from nltk.tokenize import word_tokenize\n",
    "from nltk import FreqDist\n",
    "from nltk import trigrams\n",
    "from nltk import bigrams\n",
    "from nltk import ngrams\n",
    "from nltk.collections import defaultdict\n",
    "from nltk.classify.scikitlearn import SklearnClassifier\n",
    "from sklearn.linear_model import LogisticRegression\n",
    "from gensim.models import KeyedVectors\n",
    "from collections import Counter \n",
    "from nltk.classify.util import accuracy\n",
    "from sklearn.metrics import precision_score, recall_score, f1_score, classification_report,accuracy_score\n",
    "import pandas as pd\n",
    "import nltk\n",
    "import gensim\n",
    "import collections"
   ]
  },
  {
   "cell_type": "code",
   "execution_count": null,
   "metadata": {
    "colab": {},
    "colab_type": "code",
    "id": "quk68ySvq3pE"
   },
   "outputs": [],
   "source": [
    "from sklearn.naive_bayes import MultinomialNB\n",
    "mnb=SklearnClassifier(MultinomialNB())\n",
    "mnb.train(train_feats)\n",
    "\n",
    "pred1=[]\n",
    "for txt in test['text']:\n",
    "    txt=BOW(txt.split(' '))\n",
    "    pred1.append(mnb.classify(txt))\n",
    "print(classification_report(pred1,test['category']))"
   ]
  },
  {
   "cell_type": "code",
   "execution_count": null,
   "metadata": {
    "colab": {},
    "colab_type": "code",
    "id": "Pi1s8YSVrFXl"
   },
   "outputs": [],
   "source": [
    "#ngram-mlp"
   ]
  },
  {
   "cell_type": "code",
   "execution_count": null,
   "metadata": {
    "colab": {},
    "colab_type": "code",
    "id": "e_l_uDHHq553"
   },
   "outputs": [],
   "source": [
    "import unicodedata\n",
    "from string import punctuation\n",
    "from nltk.tokenize import WhitespaceTokenizer\n",
    "from nltk import ngrams\n"
   ]
  },
  {
   "cell_type": "code",
   "execution_count": null,
   "metadata": {
    "colab": {},
    "colab_type": "code",
    "id": "w_QVDZB3rH7t"
   },
   "outputs": [],
   "source": [
    "def get_word_ngrams(tokens, n):\n",
    "    ngrams_list = []\n",
    "    ngrams_list.append(list(ngrams(tokens, n)))\n",
    "    ngrams_flat_tuples = [ngram for ngram_list in ngrams_list for ngram in ngram_list]\n",
    "    format_string = '%s'\n",
    "    for i in range(1, n):\n",
    "        format_string += (' %s')\n",
    "    ngrams_list_flat = [format_string % ngram_tuple for ngram_tuple in ngrams_flat_tuples]\n",
    "    return ngrams_list_flat\n",
    "\n",
    "def get_char_ngrams(word, n):\n",
    "    ngrams_list = []\n",
    "    word = re.sub(r'ς', 'σ', word)\n",
    "    ngrams_list.append(list(ngrams(word, n, pad_left=True, pad_right=True, left_pad_symbol='_', right_pad_symbol='_')))\n",
    "    \n",
    "    # Removing redundant ngrams:\n",
    "    if (n > 2):\n",
    "        redundant_combinations = n - 2\n",
    "        ngrams_list = [ngram_list[redundant_combinations : -redundant_combinations] for ngram_list in ngrams_list]\n",
    "    \n",
    "    ngrams_flat_tuples = [ngram for ngram_list in ngrams_list for ngram in ngram_list]\n",
    "    format_string = ''\n",
    "    for i in range(0, n):\n",
    "        format_string += ('%s')\n",
    "    ngrams_list_flat = [format_string % ngram_tuple for ngram_tuple in ngrams_flat_tuples]\n",
    "    return ngrams_list_flat\n",
    "\n",
    "# Feature extractor\n",
    "def get_ngram_features(sent): # The reason I do not use NLTK's everygrams to extract the features quickly is because the behavior of my n-gram extractor is modified to remove redundant n-grams. Also, I need to label word and char n-grams to avoid ambiguity\n",
    "    sentence_tokens = WhitespaceTokenizer().tokenize(sent)\n",
    "    \n",
    "    features = {}\n",
    "    \n",
    "    # Word unigrams\n",
    "    ngrams = get_word_ngrams(sentence_tokens, 1)\n",
    "    for ngram in ngrams:\n",
    "        features[f'word({ngram})'] = features.get(f'word({ngram})', 0) + 1 # The second parameter to .get() is a default value if the key doesn't exist.\n",
    "    \n",
    "    # Word bigrams\n",
    "    ngrams = get_word_ngrams(sentence_tokens, 2)\n",
    "    for ngram in ngrams:\n",
    "        features[f'word_bigram({ngram})'] = features.get(f'word_bigram({ngram})', 0) + 1\n",
    "        \n",
    "    # Word trigrams\n",
    "    ngrams = get_word_ngrams(sentence_tokens, 2)\n",
    "    for ngram in ngrams:\n",
    "        features[f'word_trigram({ngram})'] = features.get(f'word_trigram({ngram})', 0) + 1\n",
    "    \n",
    "    # Char unigrams\n",
    "    for word in sentence_tokens:\n",
    "        ngrams = get_char_ngrams(word, 1)\n",
    "        for ngram in ngrams:\n",
    "            features[f'char({ngram})'] = features.get(f'char({ngram})', 0) + 1\n",
    "    \n",
    "    # Char bigrams\n",
    "    for word in sentence_tokens:\n",
    "        ngrams = get_char_ngrams(word, 2)\n",
    "        for ngram in ngrams:\n",
    "            features[f'char_bigram({ngram})'] = features.get(f'char_bigram({ngram})', 0) + 1\n",
    "    \n",
    "    # Char trigrams\n",
    "    for word in sentence_tokens:\n",
    "        ngrams = get_char_ngrams(word, 3)\n",
    "        for ngram in ngrams:\n",
    "            features[f'char_trigram({ngram})'] = features.get(f'char_trigram({ngram})', 0) + 1\n",
    "            \n",
    "            # Char trigrams\n",
    "    for word in sentence_tokens:\n",
    "        ngrams = get_char_ngrams(word, 4)\n",
    "        for ngram in ngrams:\n",
    "            features[f'char_4gram({ngram})'] = features.get(f'char_4gram({ngram})', 0) + 1\n",
    "            \n",
    "    for word in sentence_tokens:\n",
    "        ngrams = get_char_ngrams(word, 5)\n",
    "        for ngram in ngrams:\n",
    "            features[f'char_5gram({ngram})'] = features.get(f'char_5gram({ngram})', 0) + 1\n",
    "    \n",
    "    return features"
   ]
  },
  {
   "cell_type": "code",
   "execution_count": null,
   "metadata": {
    "colab": {},
    "colab_type": "code",
    "id": "hI5Z0yRDD14n"
   },
   "outputs": [],
   "source": [
    "train_set_sents = data.text\n",
    "train_set_labels = data.category\n",
    "test_set_sents =test.text\n",
    "#test_set_labels = test.category"
   ]
  },
  {
   "cell_type": "code",
   "execution_count": null,
   "metadata": {
    "colab": {
     "base_uri": "https://localhost:8080/",
     "height": 52
    },
    "colab_type": "code",
    "executionInfo": {
     "elapsed": 4499,
     "status": "ok",
     "timestamp": 1597831842732,
     "user": {
      "displayName": "fan roid",
      "photoUrl": "",
      "userId": "13892271252083538728"
     },
     "user_tz": -330
    },
    "id": "APf_rFMtD484",
    "outputId": "ef17b875-2be1-4121-9740-49390d2bbe34"
   },
   "outputs": [
    {
     "data": {
      "text/plain": [
       "<4851x134433 sparse matrix of type '<class 'numpy.int64'>'\n",
       "\twith 946340 stored elements in Compressed Sparse Row format>"
      ]
     },
     "execution_count": 155,
     "metadata": {
      "tags": []
     },
     "output_type": "execute_result"
    }
   ],
   "source": [
    "from sklearn.feature_extraction.text import CountVectorizer\n",
    "\n",
    "count_vect = CountVectorizer(analyzer=get_ngram_features)\n",
    "\n",
    "train_set_vectors = count_vect.fit_transform(train_set_sents)\n",
    "test_set_vectors = count_vect.transform(test_set_sents) # Unlike fit_transform(), transform() does not change the count vectorizer's vocabulary so it should be used for the test set.\n",
    "train_set_vectors"
   ]
  },
  {
   "cell_type": "code",
   "execution_count": null,
   "metadata": {
    "colab": {},
    "colab_type": "code",
    "id": "qGDuDTkcrMQ1"
   },
   "outputs": [],
   "source": [
    "from sklearn.neural_network import MLPClassifier\n",
    "\n",
    "clf_mlp = MLPClassifier(hidden_layer_sizes=(150,100,50), max_iter=300,activation = 'relu',solver='adam',random_state=1)# Again, dual = True. Default solver = 'liblinear'. It's recommended for smaller databases. For bigger databases, 'saga' could be used.\n",
    "clf_mlp.fit(train_set_vectors, train_set_labels)\n",
    "\n",
    "pred2 = clf_mlp.predict(test_set_vectors)\n",
    "\n",
    "#print('\\t\\t\\tPERFORMANCE\\n')\n",
    "#print('Accuracy:', round(accuracy_score(test_set_labels, pred2), 2), '\\n')\n",
    "\n",
    "#print(classification_report(test_set_labels, pred2))"
   ]
  },
  {
   "cell_type": "code",
   "execution_count": null,
   "metadata": {
    "colab": {},
    "colab_type": "code",
    "id": "rcEhqurPrRm1"
   },
   "outputs": [],
   "source": [
    "#w2v+ml\n",
    "import nltk\n",
    "from nltk.tokenize import sent_tokenize, word_tokenize\n",
    "import warnings\n",
    "warnings.filterwarnings(action='ignore')\n",
    "import pandas as pd\n",
    "import gensim\n",
    "from gensim.models import Word2Vec\n",
    "\n",
    "txt=[]\n",
    "for i in data.text:\n",
    "    temp=[]\n",
    "    for j in i.split(' '):\n",
    "        temp.append(j.lower())\n",
    "    txt.append(temp)\n",
    "\n",
    "#using skip gram\n",
    "w2v = gensim.models.Word2Vec(txt, min_count = 1, size = 100, window = 3,sg=1) "
   ]
  },
  {
   "cell_type": "code",
   "execution_count": null,
   "metadata": {
    "colab": {},
    "colab_type": "code",
    "id": "T08oylRtri0b"
   },
   "outputs": [],
   "source": [
    "vocab=list(w2v.wv.vocab)\n",
    "\n",
    "def feats(txt):\n",
    "    ff=[]\n",
    "    for word in txt.split(' '):\n",
    "        try:\n",
    "            ff.extend(w2v[word.lower()])\n",
    "        except: ff.extend([0.0])\n",
    "    return ff"
   ]
  },
  {
   "cell_type": "code",
   "execution_count": null,
   "metadata": {
    "colab": {
     "base_uri": "https://localhost:8080/",
     "height": 52
    },
    "colab_type": "code",
    "executionInfo": {
     "elapsed": 11424,
     "status": "ok",
     "timestamp": 1597832427801,
     "user": {
      "displayName": "fan roid",
      "photoUrl": "",
      "userId": "13892271252083538728"
     },
     "user_tz": -330
    },
    "id": "xen5m9hCrmXW",
    "outputId": "5f9a7f9e-ffce-40a6-99d1-a862ba892a1f"
   },
   "outputs": [
    {
     "data": {
      "text/plain": [
       "<4851x1251687 sparse matrix of type '<class 'numpy.int64'>'\n",
       "\twith 3633684 stored elements in Compressed Sparse Row format>"
      ]
     },
     "execution_count": 159,
     "metadata": {
      "tags": []
     },
     "output_type": "execute_result"
    }
   ],
   "source": [
    "train_set_sents = data.text\n",
    "train_set_labels = data.category\n",
    "test_set_sents =test.text\n",
    "#test_set_labels = test.category\n",
    "\n",
    "from sklearn.feature_extraction.text import CountVectorizer\n",
    "\n",
    "count_vect = CountVectorizer(analyzer=feats)\n",
    "\n",
    "train_set_vectors = count_vect.fit_transform(train_set_sents)\n",
    "test_set_vectors = count_vect.transform(test_set_sents) # Unlike fit_transform(), transform() does not change the count vectorizer's vocabulary so it should be used for the test set.\n",
    "train_set_vectors"
   ]
  },
  {
   "cell_type": "code",
   "execution_count": null,
   "metadata": {
    "colab": {},
    "colab_type": "code",
    "id": "c7mbWathrqEj"
   },
   "outputs": [],
   "source": [
    "from sklearn.naive_bayes import MultinomialNB\n",
    "from sklearn.svm import LinearSVC\n",
    "from sklearn.linear_model import LogisticRegression\n",
    "from sklearn.metrics import accuracy_score, classification_report, confusion_matrix\n",
    "\n",
    "clf_multinomialNB = MultinomialNB() # There are no params for MultinomialDB that prevent overfitting, so any overfitting is caused by the small dataset size.\n",
    "clf_multinomialNB.fit(train_set_vectors, train_set_labels)\n",
    "\n",
    "pred3 = clf_multinomialNB.predict(test_set_vectors)\n",
    "\n",
    "#print('\\t\\t\\tPERFORMANCE\\n')\n",
    "#print('Accuracy:', round(accuracy_score(test_set_labels, pred2), 2), '\\n')\n",
    "\n",
    "#print(classification_report(test_set_labels, pred3))"
   ]
  },
  {
   "cell_type": "code",
   "execution_count": null,
   "metadata": {
    "colab": {
     "base_uri": "https://localhost:8080/",
     "height": 1000
    },
    "colab_type": "code",
    "executionInfo": {
     "elapsed": 1003,
     "status": "ok",
     "timestamp": 1597832695608,
     "user": {
      "displayName": "fan roid",
      "photoUrl": "",
      "userId": "13892271252083538728"
     },
     "user_tz": -330
    },
    "id": "hcwFMH0pru_Y",
    "outputId": "8fc47b4d-4762-4e85-8f5a-d283c59e232e"
   },
   "outputs": [
    {
     "name": "stdout",
     "output_type": "stream",
     "text": [
      "['unknown_state ', 'unknown_state ', 'Mixed_feelings ']\n",
      "['unknown_state ', 'unknown_state ', 'Positive ']\n",
      "['Mixed_feelings ', 'Positive ', 'not-malayalam ']\n",
      "['unknown_state ', 'unknown_state ', 'not-malayalam ']\n",
      "['Positive ', 'unknown_state ', 'unknown_state ']\n",
      "['unknown_state ', 'unknown_state ', 'unknown_state ']\n",
      "['Positive ', 'Positive ', 'Positive ']\n",
      "['Negative ', 'Negative ', 'Negative ']\n",
      "['Positive ', 'unknown_state ', 'Positive ']\n",
      "['Negative ', 'Negative ', 'Negative ']\n",
      "['unknown_state ', 'Positive ', 'unknown_state ']\n",
      "['not-malayalam ', 'not-malayalam ', 'not-malayalam ']\n",
      "['not-malayalam ', 'Positive ', 'not-malayalam ']\n",
      "['Positive ', 'Positive ', 'Positive ']\n",
      "['unknown_state ', 'unknown_state ', 'Positive ']\n",
      "['unknown_state ', 'Positive ', 'Positive ']\n",
      "['unknown_state ', 'unknown_state ', 'unknown_state ']\n",
      "['Positive ', 'Positive ', 'Positive ']\n",
      "['Positive ', 'unknown_state ', 'unknown_state ']\n",
      "['Positive ', 'Positive ', 'unknown_state ']\n",
      "['Positive ', 'Positive ', 'Positive ']\n",
      "['unknown_state ', 'unknown_state ', 'unknown_state ']\n",
      "['Positive ', 'Positive ', 'Positive ']\n",
      "['unknown_state ', 'unknown_state ', 'unknown_state ']\n",
      "['Positive ', 'Positive ', 'Positive ']\n",
      "['Positive ', 'unknown_state ', 'unknown_state ']\n",
      "['not-malayalam ', 'not-malayalam ', 'not-malayalam ']\n",
      "['unknown_state ', 'unknown_state ', 'unknown_state ']\n",
      "['unknown_state ', 'unknown_state ', 'unknown_state ']\n",
      "['Positive ', 'Positive ', 'unknown_state ']\n",
      "['Positive ', 'Positive ', 'Positive ']\n",
      "['unknown_state ', 'unknown_state ', 'unknown_state ']\n",
      "['Positive ', 'Positive ', 'not-malayalam ']\n",
      "['Positive ', 'Positive ', 'Positive ']\n",
      "['Positive ', 'Positive ', 'unknown_state ']\n",
      "['Positive ', 'Positive ', 'Positive ']\n",
      "['Negative ', 'Negative ', 'unknown_state ']\n",
      "['unknown_state ', 'Mixed_feelings ', 'Mixed_feelings ']\n",
      "['Positive ', 'Positive ', 'Positive ']\n",
      "['Positive ', 'Positive ', 'Positive ']\n",
      "['Positive ', 'not-malayalam ', 'not-malayalam ']\n",
      "['not-malayalam ', 'not-malayalam ', 'not-malayalam ']\n",
      "['Positive ', 'Positive ', 'Positive ']\n",
      "['unknown_state ', 'Positive ', 'Positive ']\n",
      "['Positive ', 'Positive ', 'Positive ']\n",
      "['Positive ', 'Mixed_feelings ', 'Mixed_feelings ']\n",
      "['Mixed_feelings ', 'Positive ', 'Positive ']\n",
      "['unknown_state ', 'unknown_state ', 'Positive ']\n",
      "['Positive ', 'Positive ', 'Positive ']\n",
      "['unknown_state ', 'unknown_state ', 'not-malayalam ']\n",
      "['unknown_state ', 'unknown_state ', 'unknown_state ']\n",
      "['unknown_state ', 'unknown_state ', 'unknown_state ']\n",
      "['Positive ', 'Positive ', 'Positive ']\n",
      "['Positive ', 'unknown_state ', 'Positive ']\n",
      "['unknown_state ', 'Mixed_feelings ', 'Mixed_feelings ']\n",
      "['Positive ', 'Positive ', 'Positive ']\n",
      "['Negative ', 'Negative ', 'Negative ']\n",
      "['unknown_state ', 'unknown_state ', 'unknown_state ']\n",
      "['Positive ', 'Positive ', 'unknown_state ']\n",
      "['Positive ', 'Positive ', 'unknown_state ']\n",
      "['Positive ', 'Negative ', 'Positive ']\n",
      "['not-malayalam ', 'not-malayalam ', 'not-malayalam ']\n",
      "['unknown_state ', 'unknown_state ', 'unknown_state ']\n",
      "['Positive ', 'Positive ', 'Positive ']\n",
      "['Negative ', 'not-malayalam ', 'Negative ']\n",
      "['Positive ', 'Positive ', 'Positive ']\n",
      "['Positive ', 'Positive ', 'unknown_state ']\n",
      "['Positive ', 'Positive ', 'Positive ']\n",
      "['Positive ', 'Positive ', 'Positive ']\n",
      "['Mixed_feelings ', 'Positive ', 'Positive ']\n",
      "['Mixed_feelings ', 'Positive ', 'Positive ']\n",
      "['Positive ', 'not-malayalam ', 'Positive ']\n",
      "['unknown_state ', 'not-malayalam ', 'not-malayalam ']\n",
      "['not-malayalam ', 'not-malayalam ', 'not-malayalam ']\n",
      "['Mixed_feelings ', 'Positive ', 'Positive ']\n",
      "['not-malayalam ', 'not-malayalam ', 'not-malayalam ']\n",
      "['Positive ', 'Positive ', 'Positive ']\n",
      "['Positive ', 'unknown_state ', 'unknown_state ']\n",
      "['Positive ', 'Positive ', 'Positive ']\n",
      "['unknown_state ', 'Positive ', 'Positive ']\n",
      "['Mixed_feelings ', 'Positive ', 'unknown_state ']\n",
      "['Positive ', 'Positive ', 'unknown_state ']\n",
      "['Positive ', 'Positive ', 'Positive ']\n",
      "['Positive ', 'Positive ', 'not-malayalam ']\n",
      "['unknown_state ', 'not-malayalam ', 'Negative ']\n",
      "['Positive ', 'Positive ', 'Positive ']\n",
      "['Negative ', 'Negative ', 'Negative ']\n",
      "['Positive ', 'Positive ', 'Positive ']\n",
      "['Positive ', 'unknown_state ', 'unknown_state ']\n",
      "['unknown_state ', 'Positive ', 'Positive ']\n",
      "['Positive ', 'Positive ', 'Positive ']\n",
      "['Positive ', 'Positive ', 'Positive ']\n",
      "['Negative ', 'Negative ', 'Negative ']\n",
      "['Positive ', 'Positive ', 'Positive ']\n",
      "['not-malayalam ', 'Positive ', 'Positive ']\n",
      "['Negative ', 'unknown_state ', 'Negative ']\n",
      "['not-malayalam ', 'not-malayalam ', 'not-malayalam ']\n",
      "['Positive ', 'Mixed_feelings ', 'not-malayalam ']\n",
      "['unknown_state ', 'Positive ', 'not-malayalam ']\n",
      "['Positive ', 'Positive ', 'Positive ']\n",
      "['Positive ', 'unknown_state ', 'Positive ']\n",
      "['Positive ', 'Positive ', 'Positive ']\n",
      "['Positive ', 'Positive ', 'Positive ']\n",
      "['unknown_state ', 'unknown_state ', 'unknown_state ']\n",
      "['Positive ', 'Positive ', 'Positive ']\n",
      "['not-malayalam ', 'not-malayalam ', 'not-malayalam ']\n",
      "['Mixed_feelings ', 'Positive ', 'Mixed_feelings ']\n",
      "['Positive ', 'Positive ', 'Positive ']\n",
      "['unknown_state ', 'Positive ', 'Positive ']\n",
      "['Positive ', 'Positive ', 'Positive ']\n",
      "['unknown_state ', 'not-malayalam ', 'not-malayalam ']\n",
      "['unknown_state ', 'Mixed_feelings ', 'Negative ']\n",
      "['unknown_state ', 'Mixed_feelings ', 'Positive ']\n",
      "['unknown_state ', 'unknown_state ', 'unknown_state ']\n",
      "['Mixed_feelings ', 'Positive ', 'Positive ']\n",
      "['Negative ', 'Negative ', 'Negative ']\n",
      "['unknown_state ', 'unknown_state ', 'unknown_state ']\n",
      "['Mixed_feelings ', 'Positive ', 'unknown_state ']\n",
      "['Positive ', 'Positive ', 'Positive ']\n",
      "['unknown_state ', 'Positive ', 'Positive ']\n",
      "['unknown_state ', 'unknown_state ', 'unknown_state ']\n",
      "['Positive ', 'Positive ', 'Positive ']\n",
      "['unknown_state ', 'unknown_state ', 'unknown_state ']\n",
      "['unknown_state ', 'unknown_state ', 'unknown_state ']\n",
      "['Positive ', 'Positive ', 'unknown_state ']\n",
      "['Positive ', 'Positive ', 'Positive ']\n",
      "['unknown_state ', 'unknown_state ', 'unknown_state ']\n",
      "['Positive ', 'Positive ', 'Positive ']\n",
      "['Positive ', 'Positive ', 'Positive ']\n",
      "['Positive ', 'Positive ', 'Positive ']\n",
      "['unknown_state ', 'Positive ', 'unknown_state ']\n",
      "['unknown_state ', 'Positive ', 'unknown_state ']\n",
      "['Positive ', 'Positive ', 'Positive ']\n",
      "['not-malayalam ', 'not-malayalam ', 'not-malayalam ']\n",
      "['Positive ', 'Positive ', 'Positive ']\n",
      "['unknown_state ', 'Positive ', 'Positive ']\n",
      "['unknown_state ', 'unknown_state ', 'unknown_state ']\n",
      "['Positive ', 'Positive ', 'Positive ']\n",
      "['Positive ', 'Positive ', 'Positive ']\n",
      "['unknown_state ', 'Positive ', 'unknown_state ']\n",
      "['Positive ', 'Positive ', 'Positive ']\n",
      "['unknown_state ', 'unknown_state ', 'unknown_state ']\n",
      "['Positive ', 'Positive ', 'Positive ']\n",
      "['unknown_state ', 'unknown_state ', 'unknown_state ']\n",
      "['Positive ', 'not-malayalam ', 'Positive ']\n",
      "['unknown_state ', 'Positive ', 'Positive ']\n",
      "['unknown_state ', 'not-malayalam ', 'Positive ']\n",
      "['not-malayalam ', 'not-malayalam ', 'not-malayalam ']\n",
      "['unknown_state ', 'unknown_state ', 'unknown_state ']\n",
      "['unknown_state ', 'not-malayalam ', 'not-malayalam ']\n",
      "['unknown_state ', 'unknown_state ', 'unknown_state ']\n",
      "['unknown_state ', 'Positive ', 'unknown_state ']\n",
      "['Positive ', 'Positive ', 'Positive ']\n",
      "['unknown_state ', 'Negative ', 'unknown_state ']\n",
      "['Positive ', 'Positive ', 'Positive ']\n",
      "['Positive ', 'not-malayalam ', 'Positive ']\n",
      "['Positive ', 'Positive ', 'Positive ']\n",
      "['not-malayalam ', 'unknown_state ', 'unknown_state ']\n",
      "['unknown_state ', 'unknown_state ', 'unknown_state ']\n",
      "['Positive ', 'Positive ', 'Positive ']\n",
      "['Mixed_feelings ', 'Positive ', 'unknown_state ']\n",
      "['unknown_state ', 'unknown_state ', 'unknown_state ']\n",
      "['unknown_state ', 'unknown_state ', 'unknown_state ']\n",
      "['not-malayalam ', 'not-malayalam ', 'not-malayalam ']\n",
      "['Mixed_feelings ', 'Positive ', 'unknown_state ']\n",
      "['unknown_state ', 'Mixed_feelings ', 'Negative ']\n",
      "['Positive ', 'Positive ', 'unknown_state ']\n",
      "['not-malayalam ', 'not-malayalam ', 'Positive ']\n",
      "['Positive ', 'Positive ', 'not-malayalam ']\n",
      "['Positive ', 'Positive ', 'Positive ']\n",
      "['Positive ', 'not-malayalam ', 'not-malayalam ']\n",
      "['Positive ', 'unknown_state ', 'unknown_state ']\n",
      "['Negative ', 'Negative ', 'Negative ']\n",
      "['Positive ', 'Positive ', 'Positive ']\n",
      "['Positive ', 'Positive ', 'Positive ']\n",
      "['not-malayalam ', 'unknown_state ', 'not-malayalam ']\n",
      "['unknown_state ', 'unknown_state ', 'unknown_state ']\n",
      "['unknown_state ', 'Positive ', 'unknown_state ']\n",
      "['Positive ', 'Mixed_feelings ', 'unknown_state ']\n",
      "['Positive ', 'Positive ', 'Positive ']\n",
      "['unknown_state ', 'unknown_state ', 'unknown_state ']\n",
      "['Positive ', 'Positive ', 'unknown_state ']\n",
      "['unknown_state ', 'unknown_state ', 'unknown_state ']\n",
      "['unknown_state ', 'unknown_state ', 'unknown_state ']\n",
      "['unknown_state ', 'Positive ', 'Mixed_feelings ']\n",
      "['unknown_state ', 'Mixed_feelings ', 'unknown_state ']\n",
      "['Negative ', 'Positive ', 'Positive ']\n",
      "['unknown_state ', 'unknown_state ', 'Positive ']\n",
      "['unknown_state ', 'unknown_state ', 'unknown_state ']\n",
      "['Positive ', 'Positive ', 'not-malayalam ']\n",
      "['Mixed_feelings ', 'Positive ', 'Positive ']\n",
      "['Mixed_feelings ', 'Positive ', 'Positive ']\n",
      "['Positive ', 'Positive ', 'Positive ']\n",
      "['unknown_state ', 'unknown_state ', 'unknown_state ']\n",
      "['Positive ', 'unknown_state ', 'unknown_state ']\n",
      "['unknown_state ', 'Negative ', 'Negative ']\n",
      "['Positive ', 'Positive ', 'Positive ']\n",
      "['Positive ', 'Positive ', 'Positive ']\n",
      "['unknown_state ', 'unknown_state ', 'unknown_state ']\n",
      "['Positive ', 'Positive ', 'Positive ']\n",
      "['Positive ', 'Positive ', 'unknown_state ']\n",
      "['unknown_state ', 'unknown_state ', 'Positive ']\n",
      "['Positive ', 'Positive ', 'Positive ']\n",
      "['unknown_state ', 'not-malayalam ', 'Mixed_feelings ']\n",
      "['not-malayalam ', 'not-malayalam ', 'not-malayalam ']\n",
      "['Positive ', 'Positive ', 'Positive ']\n",
      "['Mixed_feelings ', 'not-malayalam ', 'Positive ']\n",
      "['Positive ', 'Positive ', 'Positive ']\n",
      "['Positive ', 'Positive ', 'Positive ']\n",
      "['unknown_state ', 'unknown_state ', 'unknown_state ']\n",
      "['Positive ', 'Positive ', 'Positive ']\n",
      "['Positive ', 'Positive ', 'Positive ']\n",
      "['Negative ', 'Negative ', 'Negative ']\n",
      "['Positive ', 'Positive ', 'Positive ']\n",
      "['Positive ', 'not-malayalam ', 'Positive ']\n",
      "['unknown_state ', 'Positive ', 'unknown_state ']\n",
      "['Positive ', 'Positive ', 'unknown_state ']\n",
      "['not-malayalam ', 'not-malayalam ', 'not-malayalam ']\n",
      "['Positive ', 'Positive ', 'Positive ']\n",
      "['unknown_state ', 'not-malayalam ', 'not-malayalam ']\n",
      "['not-malayalam ', 'not-malayalam ', 'not-malayalam ']\n",
      "['unknown_state ', 'unknown_state ', 'unknown_state ']\n",
      "['not-malayalam ', 'not-malayalam ', 'not-malayalam ']\n",
      "['unknown_state ', 'Positive ', 'unknown_state ']\n",
      "['unknown_state ', 'not-malayalam ', 'not-malayalam ']\n",
      "['Positive ', 'Positive ', 'Positive ']\n",
      "['Positive ', 'Positive ', 'Positive ']\n",
      "['unknown_state ', 'Positive ', 'Positive ']\n",
      "['unknown_state ', 'Positive ', 'unknown_state ']\n",
      "['Positive ', 'unknown_state ', 'unknown_state ']\n",
      "['Positive ', 'Positive ', 'Positive ']\n",
      "['not-malayalam ', 'not-malayalam ', 'not-malayalam ']\n",
      "['unknown_state ', 'unknown_state ', 'not-malayalam ']\n",
      "['Positive ', 'Positive ', 'Positive ']\n",
      "['Positive ', 'Positive ', 'Positive ']\n",
      "['unknown_state ', 'unknown_state ', 'unknown_state ']\n",
      "['Negative ', 'Negative ', 'Negative ']\n",
      "['Positive ', 'Positive ', 'Positive ']\n",
      "['unknown_state ', 'unknown_state ', 'Positive ']\n",
      "['Negative ', 'Positive ', 'Positive ']\n",
      "['unknown_state ', 'unknown_state ', 'Positive ']\n",
      "['unknown_state ', 'unknown_state ', 'unknown_state ']\n",
      "['Positive ', 'Positive ', 'Positive ']\n",
      "['Positive ', 'Positive ', 'Positive ']\n",
      "['Positive ', 'Positive ', 'Positive ']\n",
      "['Positive ', 'Positive ', 'Positive ']\n",
      "['Positive ', 'Positive ', 'Positive ']\n",
      "['Positive ', 'Positive ', 'Positive ']\n",
      "['unknown_state ', 'unknown_state ', 'unknown_state ']\n",
      "['unknown_state ', 'unknown_state ', 'not-malayalam ']\n",
      "['Positive ', 'Negative ', 'not-malayalam ']\n",
      "['Positive ', 'Positive ', 'not-malayalam ']\n",
      "['unknown_state ', 'Positive ', 'Positive ']\n",
      "['Positive ', 'Positive ', 'Positive ']\n",
      "['Negative ', 'Negative ', 'Negative ']\n",
      "['unknown_state ', 'unknown_state ', 'unknown_state ']\n",
      "['unknown_state ', 'Negative ', 'Negative ']\n",
      "['Positive ', 'unknown_state ', 'unknown_state ']\n",
      "['Positive ', 'Positive ', 'Positive ']\n",
      "['unknown_state ', 'Positive ', 'unknown_state ']\n",
      "['Positive ', 'unknown_state ', 'unknown_state ']\n",
      "['unknown_state ', 'unknown_state ', 'unknown_state ']\n",
      "['not-malayalam ', 'not-malayalam ', 'not-malayalam ']\n",
      "['unknown_state ', 'not-malayalam ', 'not-malayalam ']\n",
      "['unknown_state ', 'unknown_state ', 'unknown_state ']\n",
      "['Positive ', 'Positive ', 'Positive ']\n",
      "['unknown_state ', 'Positive ', 'unknown_state ']\n",
      "['unknown_state ', 'unknown_state ', 'Positive ']\n",
      "['unknown_state ', 'Positive ', 'unknown_state ']\n",
      "['Positive ', 'Positive ', 'Positive ']\n",
      "['Positive ', 'Positive ', 'unknown_state ']\n",
      "['unknown_state ', 'Positive ', 'Positive ']\n",
      "['Positive ', 'Positive ', 'Positive ']\n",
      "['unknown_state ', 'not-malayalam ', 'not-malayalam ']\n",
      "['not-malayalam ', 'Positive ', 'not-malayalam ']\n",
      "['unknown_state ', 'Positive ', 'unknown_state ']\n",
      "['Positive ', 'Positive ', 'Positive ']\n",
      "['not-malayalam ', 'Positive ', 'not-malayalam ']\n",
      "['unknown_state ', 'unknown_state ', 'unknown_state ']\n",
      "['unknown_state ', 'Positive ', 'Positive ']\n",
      "['unknown_state ', 'unknown_state ', 'unknown_state ']\n",
      "['unknown_state ', 'Negative ', 'Negative ']\n",
      "['unknown_state ', 'Negative ', 'Negative ']\n",
      "['Positive ', 'Positive ', 'Positive ']\n",
      "['unknown_state ', 'unknown_state ', 'unknown_state ']\n",
      "['Negative ', 'Mixed_feelings ', 'Negative ']\n",
      "['not-malayalam ', 'not-malayalam ', 'not-malayalam ']\n",
      "['unknown_state ', 'Mixed_feelings ', 'unknown_state ']\n",
      "['unknown_state ', 'unknown_state ', 'unknown_state ']\n",
      "['unknown_state ', 'unknown_state ', 'unknown_state ']\n",
      "['Negative ', 'Negative ', 'Negative ']\n",
      "['Positive ', 'Positive ', 'Positive ']\n",
      "['unknown_state ', 'unknown_state ', 'unknown_state ']\n",
      "['Positive ', 'Positive ', 'Positive ']\n",
      "['unknown_state ', 'not-malayalam ', 'unknown_state ']\n",
      "['unknown_state ', 'unknown_state ', 'unknown_state ']\n",
      "['unknown_state ', 'unknown_state ', 'unknown_state ']\n",
      "['Positive ', 'Positive ', 'Positive ']\n",
      "['Positive ', 'Positive ', 'Positive ']\n",
      "['not-malayalam ', 'not-malayalam ', 'unknown_state ']\n",
      "['Positive ', 'Positive ', 'Positive ']\n",
      "['Positive ', 'Positive ', 'Positive ']\n",
      "['unknown_state ', 'Positive ', 'Positive ']\n",
      "['Positive ', 'not-malayalam ', 'not-malayalam ']\n",
      "['unknown_state ', 'unknown_state ', 'unknown_state ']\n",
      "['Negative ', 'unknown_state ', 'unknown_state ']\n",
      "['unknown_state ', 'unknown_state ', 'unknown_state ']\n",
      "['unknown_state ', 'Positive ', 'unknown_state ']\n",
      "['Positive ', 'Mixed_feelings ', 'Positive ']\n",
      "['unknown_state ', 'not-malayalam ', 'not-malayalam ']\n",
      "['Positive ', 'Positive ', 'Positive ']\n",
      "['Positive ', 'Positive ', 'Positive ']\n",
      "['unknown_state ', 'unknown_state ', 'unknown_state ']\n",
      "['Positive ', 'Positive ', 'Positive ']\n",
      "['unknown_state ', 'unknown_state ', 'unknown_state ']\n",
      "['Positive ', 'Positive ', 'Positive ']\n",
      "['unknown_state ', 'unknown_state ', 'unknown_state ']\n",
      "['Positive ', 'Positive ', 'Positive ']\n",
      "['unknown_state ', 'unknown_state ', 'unknown_state ']\n",
      "['not-malayalam ', 'not-malayalam ', 'not-malayalam ']\n",
      "['not-malayalam ', 'not-malayalam ', 'not-malayalam ']\n",
      "['unknown_state ', 'unknown_state ', 'not-malayalam ']\n",
      "['Negative ', 'Negative ', 'Negative ']\n",
      "['not-malayalam ', 'not-malayalam ', 'not-malayalam ']\n",
      "['Positive ', 'Positive ', 'Positive ']\n",
      "['unknown_state ', 'Positive ', 'unknown_state ']\n",
      "['Mixed_feelings ', 'Positive ', 'unknown_state ']\n",
      "['unknown_state ', 'unknown_state ', 'unknown_state ']\n",
      "['Negative ', 'Negative ', 'Negative ']\n",
      "['unknown_state ', 'unknown_state ', 'Positive ']\n",
      "['unknown_state ', 'unknown_state ', 'unknown_state ']\n",
      "['Positive ', 'Positive ', 'Positive ']\n",
      "['unknown_state ', 'Positive ', 'unknown_state ']\n",
      "['unknown_state ', 'Positive ', 'Positive ']\n",
      "['Positive ', 'Positive ', 'Positive ']\n",
      "['Positive ', 'Positive ', 'not-malayalam ']\n",
      "['unknown_state ', 'unknown_state ', 'unknown_state ']\n",
      "['not-malayalam ', 'not-malayalam ', 'not-malayalam ']\n",
      "['unknown_state ', 'unknown_state ', 'unknown_state ']\n",
      "['not-malayalam ', 'not-malayalam ', 'not-malayalam ']\n",
      "['unknown_state ', 'unknown_state ', 'unknown_state ']\n",
      "['Positive ', 'unknown_state ', 'Positive ']\n",
      "['Positive ', 'Positive ', 'unknown_state ']\n",
      "['Positive ', 'Positive ', 'Positive ']\n",
      "['Positive ', 'Positive ', 'Positive ']\n",
      "['not-malayalam ', 'not-malayalam ', 'Positive ']\n",
      "['Positive ', 'Positive ', 'not-malayalam ']\n",
      "['not-malayalam ', 'not-malayalam ', 'not-malayalam ']\n",
      "['Positive ', 'Positive ', 'Positive ']\n",
      "['not-malayalam ', 'not-malayalam ', 'not-malayalam ']\n",
      "['Mixed_feelings ', 'Positive ', 'unknown_state ']\n",
      "['Positive ', 'Positive ', 'Positive ']\n",
      "['unknown_state ', 'unknown_state ', 'unknown_state ']\n",
      "['Positive ', 'Positive ', 'Positive ']\n",
      "['Mixed_feelings ', 'not-malayalam ', 'not-malayalam ']\n",
      "['unknown_state ', 'Positive ', 'Positive ']\n",
      "['Positive ', 'Positive ', 'Positive ']\n",
      "['Positive ', 'Positive ', 'Positive ']\n",
      "['Negative ', 'Negative ', 'Negative ']\n",
      "['Positive ', 'unknown_state ', 'Positive ']\n",
      "['not-malayalam ', 'not-malayalam ', 'not-malayalam ']\n",
      "['unknown_state ', 'Positive ', 'unknown_state ']\n",
      "['unknown_state ', 'unknown_state ', 'unknown_state ']\n",
      "['Mixed_feelings ', 'Mixed_feelings ', 'Mixed_feelings ']\n",
      "['unknown_state ', 'Positive ', 'Positive ']\n",
      "['unknown_state ', 'Positive ', 'Positive ']\n",
      "['unknown_state ', 'unknown_state ', 'unknown_state ']\n",
      "['not-malayalam ', 'Positive ', 'Positive ']\n",
      "['unknown_state ', 'unknown_state ', 'unknown_state ']\n",
      "['Negative ', 'not-malayalam ', 'Negative ']\n",
      "['Positive ', 'Positive ', 'Positive ']\n",
      "['Positive ', 'Positive ', 'Positive ']\n",
      "['unknown_state ', 'unknown_state ', 'unknown_state ']\n",
      "['Negative ', 'Negative ', 'Negative ']\n",
      "['unknown_state ', 'unknown_state ', 'Negative ']\n",
      "['Positive ', 'Positive ', 'Positive ']\n",
      "['Positive ', 'Positive ', 'Positive ']\n",
      "['unknown_state ', 'Negative ', 'Negative ']\n",
      "['Positive ', 'Positive ', 'Positive ']\n",
      "['unknown_state ', 'unknown_state ', 'unknown_state ']\n",
      "['Positive ', 'Positive ', 'unknown_state ']\n",
      "['Mixed_feelings ', 'Positive ', 'Mixed_feelings ']\n",
      "['not-malayalam ', 'not-malayalam ', 'not-malayalam ']\n",
      "['unknown_state ', 'unknown_state ', 'unknown_state ']\n",
      "['unknown_state ', 'Positive ', 'unknown_state ']\n",
      "['Mixed_feelings ', 'Positive ', 'Positive ']\n",
      "['unknown_state ', 'not-malayalam ', 'not-malayalam ']\n",
      "['unknown_state ', 'unknown_state ', 'not-malayalam ']\n",
      "['Mixed_feelings ', 'Mixed_feelings ', 'Mixed_feelings ']\n",
      "['Positive ', 'Positive ', 'Positive ']\n",
      "['unknown_state ', 'unknown_state ', 'unknown_state ']\n",
      "['Positive ', 'Positive ', 'Positive ']\n",
      "['Positive ', 'Positive ', 'unknown_state ']\n",
      "['Mixed_feelings ', 'Positive ', 'Mixed_feelings ']\n",
      "['unknown_state ', 'unknown_state ', 'unknown_state ']\n",
      "['unknown_state ', 'Positive ', 'Negative ']\n",
      "['Negative ', 'Negative ', 'Negative ']\n",
      "['unknown_state ', 'unknown_state ', 'unknown_state ']\n",
      "['Negative ', 'unknown_state ', 'Negative ']\n",
      "['unknown_state ', 'unknown_state ', 'unknown_state ']\n",
      "['Mixed_feelings ', 'Positive ', 'unknown_state ']\n",
      "['Positive ', 'Positive ', 'Positive ']\n",
      "['Positive ', 'Positive ', 'Positive ']\n",
      "['unknown_state ', 'unknown_state ', 'unknown_state ']\n",
      "['Positive ', 'Positive ', 'Positive ']\n",
      "['Positive ', 'Positive ', 'Positive ']\n",
      "['not-malayalam ', 'not-malayalam ', 'not-malayalam ']\n",
      "['Positive ', 'Positive ', 'Positive ']\n",
      "['unknown_state ', 'Positive ', 'Positive ']\n",
      "['Positive ', 'Positive ', 'unknown_state ']\n",
      "['not-malayalam ', 'not-malayalam ', 'not-malayalam ']\n",
      "['unknown_state ', 'unknown_state ', 'unknown_state ']\n",
      "['Mixed_feelings ', 'unknown_state ', 'unknown_state ']\n",
      "['Positive ', 'Positive ', 'unknown_state ']\n",
      "['Positive ', 'Positive ', 'Positive ']\n",
      "['Positive ', 'Positive ', 'Positive ']\n",
      "['Positive ', 'Positive ', 'Positive ']\n",
      "['unknown_state ', 'unknown_state ', 'not-malayalam ']\n",
      "['Positive ', 'unknown_state ', 'unknown_state ']\n",
      "['Negative ', 'Negative ', 'Negative ']\n",
      "['Positive ', 'Positive ', 'Positive ']\n",
      "['Mixed_feelings ', 'Positive ', 'Mixed_feelings ']\n",
      "['unknown_state ', 'Mixed_feelings ', 'Mixed_feelings ']\n",
      "['unknown_state ', 'Negative ', 'Negative ']\n",
      "['not-malayalam ', 'not-malayalam ', 'unknown_state ']\n",
      "['Positive ', 'Positive ', 'Positive ']\n",
      "['Positive ', 'Positive ', 'Positive ']\n",
      "['Positive ', 'Mixed_feelings ', 'unknown_state ']\n",
      "['Positive ', 'Positive ', 'Positive ']\n",
      "['unknown_state ', 'unknown_state ', 'Positive ']\n",
      "['Positive ', 'Positive ', 'Positive ']\n",
      "['Positive ', 'Positive ', 'Positive ']\n",
      "['Positive ', 'Positive ', 'Positive ']\n",
      "['Negative ', 'Positive ', 'Positive ']\n",
      "['Positive ', 'Positive ', 'Positive ']\n",
      "['Positive ', 'unknown_state ', 'unknown_state ']\n",
      "['Positive ', 'Positive ', 'Positive ']\n",
      "['not-malayalam ', 'Negative ', 'Negative ']\n",
      "['unknown_state ', 'unknown_state ', 'Positive ']\n",
      "['unknown_state ', 'Positive ', 'unknown_state ']\n",
      "['unknown_state ', 'Positive ', 'Positive ']\n",
      "['unknown_state ', 'not-malayalam ', 'Positive ']\n",
      "['Positive ', 'Positive ', 'Positive ']\n",
      "['Positive ', 'Positive ', 'Positive ']\n",
      "['unknown_state ', 'unknown_state ', 'Mixed_feelings ']\n",
      "['Positive ', 'Positive ', 'Positive ']\n",
      "['unknown_state ', 'unknown_state ', 'unknown_state ']\n",
      "['unknown_state ', 'unknown_state ', 'not-malayalam ']\n",
      "['Positive ', 'not-malayalam ', 'Positive ']\n",
      "['Positive ', 'unknown_state ', 'unknown_state ']\n",
      "['unknown_state ', 'Negative ', 'unknown_state ']\n",
      "['Negative ', 'not-malayalam ', 'unknown_state ']\n",
      "['Positive ', 'Positive ', 'Positive ']\n",
      "['Positive ', 'Positive ', 'Positive ']\n",
      "['Positive ', 'Positive ', 'Positive ']\n",
      "['Positive ', 'Positive ', 'Positive ']\n",
      "['unknown_state ', 'unknown_state ', 'unknown_state ']\n",
      "['Positive ', 'Positive ', 'Positive ']\n",
      "['Positive ', 'Positive ', 'Positive ']\n",
      "['Mixed_feelings ', 'Mixed_feelings ', 'Positive ']\n",
      "['unknown_state ', 'unknown_state ', 'unknown_state ']\n",
      "['unknown_state ', 'unknown_state ', 'unknown_state ']\n",
      "['not-malayalam ', 'not-malayalam ', 'not-malayalam ']\n",
      "['Negative ', 'Positive ', 'Positive ']\n",
      "['Positive ', 'Positive ', 'Positive ']\n",
      "['Positive ', 'Positive ', 'Positive ']\n",
      "['Positive ', 'Positive ', 'Positive ']\n",
      "['unknown_state ', 'not-malayalam ', 'Positive ']\n",
      "['unknown_state ', 'Positive ', 'Positive ']\n",
      "['unknown_state ', 'unknown_state ', 'unknown_state ']\n",
      "['unknown_state ', 'Negative ', 'unknown_state ']\n",
      "['unknown_state ', 'unknown_state ', 'unknown_state ']\n",
      "['Positive ', 'Positive ', 'Positive ']\n",
      "['Positive ', 'Positive ', 'Positive ']\n",
      "['unknown_state ', 'Positive ', 'Positive ']\n",
      "['unknown_state ', 'unknown_state ', 'unknown_state ']\n",
      "['unknown_state ', 'unknown_state ', 'unknown_state ']\n",
      "['Negative ', 'unknown_state ', 'unknown_state ']\n",
      "['Positive ', 'Positive ', 'Positive ']\n",
      "['unknown_state ', 'unknown_state ', 'Mixed_feelings ']\n",
      "['Positive ', 'Positive ', 'Positive ']\n",
      "['Positive ', 'Positive ', 'Positive ']\n",
      "['unknown_state ', 'unknown_state ', 'unknown_state ']\n",
      "['Positive ', 'Positive ', 'Positive ']\n",
      "['unknown_state ', 'unknown_state ', 'unknown_state ']\n",
      "['unknown_state ', 'unknown_state ', 'unknown_state ']\n",
      "['unknown_state ', 'not-malayalam ', 'unknown_state ']\n",
      "['Mixed_feelings ', 'unknown_state ', 'unknown_state ']\n",
      "['Positive ', 'Positive ', 'Positive ']\n",
      "['Positive ', 'Positive ', 'not-malayalam ']\n",
      "['unknown_state ', 'unknown_state ', 'Positive ']\n",
      "['not-malayalam ', 'not-malayalam ', 'not-malayalam ']\n",
      "['Positive ', 'Positive ', 'Positive ']\n",
      "['unknown_state ', 'Positive ', 'Positive ']\n",
      "['Negative ', 'Negative ', 'Negative ']\n",
      "['unknown_state ', 'Positive ', 'Positive ']\n",
      "['Negative ', 'Positive ', 'Positive ']\n",
      "['not-malayalam ', 'not-malayalam ', 'Positive ']\n",
      "['unknown_state ', 'Positive ', 'Positive ']\n",
      "['unknown_state ', 'Negative ', 'unknown_state ']\n",
      "['Negative ', 'Negative ', 'Negative ']\n",
      "['Positive ', 'Positive ', 'Positive ']\n",
      "['Positive ', 'Positive ', 'Positive ']\n",
      "['Positive ', 'Positive ', 'Positive ']\n",
      "['Positive ', 'Positive ', 'Positive ']\n",
      "['unknown_state ', 'unknown_state ', 'unknown_state ']\n",
      "['Positive ', 'Positive ', 'Positive ']\n",
      "['not-malayalam ', 'not-malayalam ', 'not-malayalam ']\n",
      "['Positive ', 'Positive ', 'unknown_state ']\n",
      "['Mixed_feelings ', 'Mixed_feelings ', 'Negative ']\n",
      "['unknown_state ', 'unknown_state ', 'unknown_state ']\n",
      "['unknown_state ', 'unknown_state ', 'unknown_state ']\n",
      "['Positive ', 'Positive ', 'Positive ']\n",
      "['unknown_state ', 'unknown_state ', 'unknown_state ']\n",
      "['Negative ', 'Positive ', 'Mixed_feelings ']\n",
      "['Mixed_feelings ', 'Positive ', 'Mixed_feelings ']\n",
      "['Positive ', 'Mixed_feelings ', 'Mixed_feelings ']\n",
      "['unknown_state ', 'Positive ', 'unknown_state ']\n",
      "['unknown_state ', 'unknown_state ', 'Positive ']\n",
      "['Mixed_feelings ', 'Positive ', 'Positive ']\n",
      "['Negative ', 'Negative ', 'Positive ']\n",
      "['not-malayalam ', 'not-malayalam ', 'not-malayalam ']\n",
      "['Positive ', 'Positive ', 'Positive ']\n",
      "['unknown_state ', 'unknown_state ', 'unknown_state ']\n",
      "['not-malayalam ', 'not-malayalam ', 'not-malayalam ']\n",
      "['unknown_state ', 'Positive ', 'Positive ']\n",
      "['Negative ', 'Negative ', 'Negative ']\n",
      "['Positive ', 'Positive ', 'Positive ']\n",
      "['unknown_state ', 'unknown_state ', 'unknown_state ']\n",
      "['Negative ', 'Positive ', 'Positive ']\n",
      "['unknown_state ', 'unknown_state ', 'not-malayalam ']\n",
      "['Positive ', 'Positive ', 'unknown_state ']\n",
      "['unknown_state ', 'unknown_state ', 'Positive ']\n",
      "['not-malayalam ', 'not-malayalam ', 'Positive ']\n",
      "['Positive ', 'Positive ', 'Positive ']\n",
      "['Positive ', 'Positive ', 'Positive ']\n",
      "['unknown_state ', 'unknown_state ', 'Positive ']\n",
      "['Negative ', 'Negative ', 'Negative ']\n",
      "['Positive ', 'Positive ', 'Positive ']\n",
      "['Positive ', 'Positive ', 'Positive ']\n",
      "['not-malayalam ', 'not-malayalam ', 'not-malayalam ']\n",
      "['unknown_state ', 'unknown_state ', 'unknown_state ']\n",
      "['not-malayalam ', 'not-malayalam ', 'not-malayalam ']\n",
      "['unknown_state ', 'Negative ', 'Positive ']\n",
      "['Negative ', 'not-malayalam ', 'not-malayalam ']\n",
      "['Positive ', 'Positive ', 'Positive ']\n",
      "['unknown_state ', 'unknown_state ', 'unknown_state ']\n",
      "['not-malayalam ', 'Positive ', 'Positive ']\n",
      "['unknown_state ', 'unknown_state ', 'unknown_state ']\n",
      "['unknown_state ', 'unknown_state ', 'unknown_state ']\n",
      "['unknown_state ', 'unknown_state ', 'unknown_state ']\n",
      "['Positive ', 'Positive ', 'Positive ']\n",
      "['Positive ', 'Positive ', 'Positive ']\n",
      "['Mixed_feelings ', 'Positive ', 'Positive ']\n",
      "['unknown_state ', 'not-malayalam ', 'not-malayalam ']\n",
      "['Positive ', 'Positive ', 'Positive ']\n",
      "['Positive ', 'Positive ', 'Positive ']\n",
      "['Mixed_feelings ', 'Positive ', 'Positive ']\n",
      "['not-malayalam ', 'not-malayalam ', 'unknown_state ']\n",
      "['Positive ', 'Positive ', 'Positive ']\n",
      "['unknown_state ', 'unknown_state ', 'unknown_state ']\n",
      "['unknown_state ', 'Negative ', 'Negative ']\n",
      "['not-malayalam ', 'Positive ', 'Positive ']\n",
      "['Positive ', 'Positive ', 'Positive ']\n",
      "['unknown_state ', 'unknown_state ', 'Positive ']\n",
      "['unknown_state ', 'unknown_state ', 'Positive ']\n",
      "['Positive ', 'Positive ', 'Positive ']\n",
      "['Mixed_feelings ', 'Positive ', 'Positive ']\n",
      "['unknown_state ', 'unknown_state ', 'unknown_state ']\n",
      "['Mixed_feelings ', 'unknown_state ', 'unknown_state ']\n",
      "['Positive ', 'Positive ', 'Positive ']\n",
      "['Positive ', 'Positive ', 'Positive ']\n",
      "['Positive ', 'Positive ', 'Positive ']\n",
      "['unknown_state ', 'unknown_state ', 'Positive ']\n",
      "['unknown_state ', 'unknown_state ', 'unknown_state ']\n",
      "['unknown_state ', 'Positive ', 'Negative ']\n",
      "['Positive ', 'unknown_state ', 'unknown_state ']\n",
      "['Negative ', 'Positive ', 'Positive ']\n",
      "['not-malayalam ', 'Positive ', 'not-malayalam ']\n",
      "['not-malayalam ', 'Positive ', 'not-malayalam ']\n",
      "['Negative ', 'Negative ', 'unknown_state ']\n",
      "['Positive ', 'not-malayalam ', 'Positive ']\n",
      "['Negative ', 'Positive ', 'Positive ']\n",
      "['Positive ', 'Positive ', 'Positive ']\n",
      "['unknown_state ', 'Positive ', 'Positive ']\n",
      "['unknown_state ', 'not-malayalam ', 'Positive ']\n",
      "['Negative ', 'Negative ', 'Negative ']\n",
      "['unknown_state ', 'unknown_state ', 'not-malayalam ']\n",
      "['unknown_state ', 'not-malayalam ', 'not-malayalam ']\n",
      "['Positive ', 'Positive ', 'Positive ']\n",
      "['Positive ', 'Positive ', 'Positive ']\n",
      "['Positive ', 'Positive ', 'Positive ']\n",
      "['unknown_state ', 'Negative ', 'Negative ']\n",
      "['unknown_state ', 'unknown_state ', 'Positive ']\n",
      "['unknown_state ', 'unknown_state ', 'unknown_state ']\n",
      "['unknown_state ', 'unknown_state ', 'Positive ']\n",
      "['not-malayalam ', 'not-malayalam ', 'not-malayalam ']\n",
      "['Positive ', 'unknown_state ', 'unknown_state ']\n",
      "['Positive ', 'Positive ', 'Positive ']\n",
      "['unknown_state ', 'Positive ', 'Negative ']\n",
      "['Positive ', 'Positive ', 'Positive ']\n",
      "['Positive ', 'Positive ', 'Positive ']\n",
      "['not-malayalam ', 'not-malayalam ', 'not-malayalam ']\n",
      "['not-malayalam ', 'not-malayalam ', 'not-malayalam ']\n",
      "['unknown_state ', 'Negative ', 'unknown_state ']\n",
      "['unknown_state ', 'Positive ', 'unknown_state ']\n",
      "['Positive ', 'unknown_state ', 'unknown_state ']\n",
      "['unknown_state ', 'unknown_state ', 'unknown_state ']\n",
      "['not-malayalam ', 'Positive ', 'unknown_state ']\n",
      "['not-malayalam ', 'not-malayalam ', 'not-malayalam ']\n",
      "['not-malayalam ', 'not-malayalam ', 'not-malayalam ']\n",
      "['unknown_state ', 'unknown_state ', 'unknown_state ']\n",
      "['Negative ', 'Positive ', 'Positive ']\n",
      "['Negative ', 'Negative ', 'Negative ']\n",
      "['Positive ', 'Positive ', 'Positive ']\n",
      "['not-malayalam ', 'not-malayalam ', 'not-malayalam ']\n",
      "['unknown_state ', 'unknown_state ', 'unknown_state ']\n",
      "['Positive ', 'Positive ', 'Positive ']\n",
      "['unknown_state ', 'Positive ', 'Positive ']\n",
      "['not-malayalam ', 'not-malayalam ', 'not-malayalam ']\n",
      "['unknown_state ', 'unknown_state ', 'Positive ']\n",
      "['Positive ', 'Positive ', 'Positive ']\n",
      "['Positive ', 'Positive ', 'Positive ']\n",
      "['Positive ', 'Positive ', 'Positive ']\n",
      "['Positive ', 'Positive ', 'Positive ']\n",
      "['Positive ', 'Positive ', 'Positive ']\n",
      "['Negative ', 'Negative ', 'Mixed_feelings ']\n",
      "['not-malayalam ', 'not-malayalam ', 'not-malayalam ']\n",
      "['Negative ', 'Negative ', 'Negative ']\n",
      "['Positive ', 'Positive ', 'Positive ']\n",
      "['Negative ', 'Negative ', 'Mixed_feelings ']\n",
      "['Negative ', 'Negative ', 'Negative ']\n",
      "['not-malayalam ', 'not-malayalam ', 'not-malayalam ']\n",
      "['unknown_state ', 'Positive ', 'not-malayalam ']\n",
      "['Positive ', 'Positive ', 'Positive ']\n",
      "['not-malayalam ', 'not-malayalam ', 'not-malayalam ']\n",
      "['unknown_state ', 'unknown_state ', 'unknown_state ']\n",
      "['Positive ', 'unknown_state ', 'unknown_state ']\n",
      "['unknown_state ', 'unknown_state ', 'unknown_state ']\n",
      "['unknown_state ', 'Negative ', 'Negative ']\n",
      "['unknown_state ', 'unknown_state ', 'unknown_state ']\n",
      "['Positive ', 'Positive ', 'Positive ']\n",
      "['unknown_state ', 'Positive ', 'Positive ']\n",
      "['Mixed_feelings ', 'Positive ', 'Positive ']\n",
      "['Positive ', 'Positive ', 'Positive ']\n",
      "['Positive ', 'Positive ', 'Positive ']\n",
      "['unknown_state ', 'Positive ', 'Positive ']\n",
      "['unknown_state ', 'unknown_state ', 'unknown_state ']\n",
      "['unknown_state ', 'Positive ', 'Positive ']\n",
      "['Negative ', 'Negative ', 'Positive ']\n",
      "['unknown_state ', 'Positive ', 'Positive ']\n",
      "['Positive ', 'Positive ', 'Positive ']\n",
      "['Negative ', 'unknown_state ', 'unknown_state ']\n",
      "['unknown_state ', 'unknown_state ', 'Positive ']\n",
      "['Positive ', 'unknown_state ', 'unknown_state ']\n",
      "['unknown_state ', 'unknown_state ', 'unknown_state ']\n",
      "['not-malayalam ', 'not-malayalam ', 'not-malayalam ']\n",
      "['Positive ', 'Positive ', 'Positive ']\n",
      "['not-malayalam ', 'Positive ', 'Positive ']\n",
      "['Positive ', 'Positive ', 'Positive ']\n",
      "['unknown_state ', 'unknown_state ', 'unknown_state ']\n",
      "['Negative ', 'Negative ', 'Negative ']\n",
      "['Negative ', 'Negative ', 'Positive ']\n",
      "['Positive ', 'Positive ', 'Positive ']\n",
      "['Positive ', 'Positive ', 'Positive ']\n",
      "['not-malayalam ', 'not-malayalam ', 'not-malayalam ']\n",
      "['Positive ', 'Positive ', 'Positive ']\n",
      "['Positive ', 'Positive ', 'Positive ']\n",
      "['Positive ', 'Positive ', 'Positive ']\n",
      "['not-malayalam ', 'not-malayalam ', 'not-malayalam ']\n",
      "['Positive ', 'Positive ', 'Positive ']\n",
      "['not-malayalam ', 'not-malayalam ', 'not-malayalam ']\n",
      "['Mixed_feelings ', 'Positive ', 'unknown_state ']\n",
      "['unknown_state ', 'unknown_state ', 'unknown_state ']\n",
      "['unknown_state ', 'unknown_state ', 'unknown_state ']\n",
      "['Positive ', 'Positive ', 'Positive ']\n",
      "['Positive ', 'Positive ', 'Positive ']\n",
      "['unknown_state ', 'Positive ', 'unknown_state ']\n",
      "['Positive ', 'Positive ', 'Positive ']\n",
      "['Positive ', 'Positive ', 'Positive ']\n",
      "['Positive ', 'Positive ', 'Positive ']\n",
      "['Positive ', 'Positive ', 'Positive ']\n",
      "['Negative ', 'Positive ', 'Positive ']\n",
      "['Positive ', 'Positive ', 'not-malayalam ']\n",
      "['not-malayalam ', 'not-malayalam ', 'not-malayalam ']\n",
      "['unknown_state ', 'unknown_state ', 'unknown_state ']\n",
      "['unknown_state ', 'Positive ', 'Negative ']\n",
      "['unknown_state ', 'unknown_state ', 'unknown_state ']\n",
      "['Positive ', 'Positive ', 'Positive ']\n",
      "['unknown_state ', 'Positive ', 'Positive ']\n",
      "['unknown_state ', 'unknown_state ', 'not-malayalam ']\n",
      "['Positive ', 'Positive ', 'Positive ']\n",
      "['Negative ', 'Positive ', 'Mixed_feelings ']\n",
      "['Positive ', 'Positive ', 'not-malayalam ']\n",
      "['Positive ', 'Positive ', 'unknown_state ']\n",
      "['Positive ', 'Positive ', 'Positive ']\n",
      "['Mixed_feelings ', 'Positive ', 'Positive ']\n",
      "['not-malayalam ', 'not-malayalam ', 'not-malayalam ']\n",
      "['Positive ', 'Positive ', 'unknown_state ']\n",
      "['unknown_state ', 'unknown_state ', 'unknown_state ']\n",
      "['unknown_state ', 'unknown_state ', 'unknown_state ']\n",
      "['not-malayalam ', 'not-malayalam ', 'not-malayalam ']\n",
      "['unknown_state ', 'Positive ', 'Positive ']\n",
      "['unknown_state ', 'unknown_state ', 'Positive ']\n",
      "['unknown_state ', 'Positive ', 'Negative ']\n",
      "['unknown_state ', 'Positive ', 'Positive ']\n",
      "['not-malayalam ', 'not-malayalam ', 'Mixed_feelings ']\n",
      "['Positive ', 'not-malayalam ', 'Positive ']\n",
      "['unknown_state ', 'unknown_state ', 'Positive ']\n",
      "['not-malayalam ', 'unknown_state ', 'unknown_state ']\n",
      "['not-malayalam ', 'not-malayalam ', 'not-malayalam ']\n",
      "['Mixed_feelings ', 'Mixed_feelings ', 'Negative ']\n",
      "['not-malayalam ', 'Positive ', 'unknown_state ']\n",
      "['Positive ', 'Positive ', 'Positive ']\n",
      "['unknown_state ', 'unknown_state ', 'unknown_state ']\n",
      "['Positive ', 'Positive ', 'Positive ']\n",
      "['unknown_state ', 'not-malayalam ', 'not-malayalam ']\n",
      "['unknown_state ', 'Positive ', 'unknown_state ']\n",
      "['Positive ', 'Positive ', 'not-malayalam ']\n",
      "['Positive ', 'Positive ', 'Positive ']\n",
      "['Mixed_feelings ', 'Positive ', 'Positive ']\n",
      "['Positive ', 'Positive ', 'Positive ']\n",
      "['unknown_state ', 'unknown_state ', 'unknown_state ']\n",
      "['Positive ', 'Positive ', 'Positive ']\n",
      "['not-malayalam ', 'not-malayalam ', 'not-malayalam ']\n",
      "['Positive ', 'not-malayalam ', 'Positive ']\n",
      "['not-malayalam ', 'not-malayalam ', 'not-malayalam ']\n",
      "['Positive ', 'Positive ', 'Positive ']\n",
      "['Positive ', 'unknown_state ', 'Positive ']\n",
      "['unknown_state ', 'not-malayalam ', 'not-malayalam ']\n",
      "['Positive ', 'Positive ', 'Positive ']\n",
      "['unknown_state ', 'unknown_state ', 'unknown_state ']\n",
      "['unknown_state ', 'unknown_state ', 'unknown_state ']\n",
      "['Positive ', 'Negative ', 'Mixed_feelings ']\n",
      "['not-malayalam ', 'not-malayalam ', 'not-malayalam ']\n",
      "['unknown_state ', 'Mixed_feelings ', 'unknown_state ']\n",
      "['unknown_state ', 'unknown_state ', 'unknown_state ']\n",
      "['unknown_state ', 'unknown_state ', 'unknown_state ']\n",
      "['Positive ', 'Positive ', 'Positive ']\n",
      "['Positive ', 'Positive ', 'Positive ']\n",
      "['Positive ', 'Positive ', 'Positive ']\n",
      "['Positive ', 'Positive ', 'Positive ']\n",
      "['Mixed_feelings ', 'Mixed_feelings ', 'Mixed_feelings ']\n",
      "['unknown_state ', 'Positive ', 'not-malayalam ']\n",
      "['unknown_state ', 'Positive ', 'unknown_state ']\n",
      "['unknown_state ', 'unknown_state ', 'unknown_state ']\n",
      "['Positive ', 'Positive ', 'Positive ']\n",
      "['Positive ', 'not-malayalam ', 'Positive ']\n",
      "['Positive ', 'Positive ', 'unknown_state ']\n",
      "['unknown_state ', 'Positive ', 'unknown_state ']\n",
      "['Positive ', 'Positive ', 'unknown_state ']\n",
      "['Positive ', 'Positive ', 'Positive ']\n",
      "['unknown_state ', 'unknown_state ', 'Positive ']\n",
      "['Positive ', 'Positive ', 'Positive ']\n",
      "['unknown_state ', 'Positive ', 'unknown_state ']\n",
      "['Positive ', 'Positive ', 'Positive ']\n",
      "['Positive ', 'Positive ', 'Positive ']\n",
      "['Positive ', 'Positive ', 'Positive ']\n",
      "['Positive ', 'Positive ', 'Positive ']\n",
      "['Negative ', 'Negative ', 'Negative ']\n",
      "['Positive ', 'Positive ', 'Positive ']\n",
      "['Negative ', 'Negative ', 'Negative ']\n",
      "['Positive ', 'Positive ', 'Positive ']\n",
      "['Negative ', 'Mixed_feelings ', 'unknown_state ']\n",
      "['unknown_state ', 'Positive ', 'not-malayalam ']\n",
      "['Positive ', 'Positive ', 'Positive ']\n",
      "['Positive ', 'Positive ', 'Positive ']\n",
      "['Mixed_feelings ', 'unknown_state ', 'Positive ']\n",
      "['Positive ', 'Positive ', 'Positive ']\n",
      "['Positive ', 'Positive ', 'Mixed_feelings ']\n",
      "['unknown_state ', 'unknown_state ', 'unknown_state ']\n",
      "['unknown_state ', 'unknown_state ', 'unknown_state ']\n",
      "['Positive ', 'unknown_state ', 'unknown_state ']\n",
      "['unknown_state ', 'unknown_state ', 'unknown_state ']\n",
      "['Mixed_feelings ', 'Positive ', 'Mixed_feelings ']\n",
      "['unknown_state ', 'Positive ', 'not-malayalam ']\n",
      "['Positive ', 'unknown_state ', 'Positive ']\n",
      "['unknown_state ', 'Mixed_feelings ', 'unknown_state ']\n",
      "['Mixed_feelings ', 'unknown_state ', 'unknown_state ']\n",
      "['Positive ', 'Positive ', 'Positive ']\n",
      "['unknown_state ', 'unknown_state ', 'unknown_state ']\n",
      "['unknown_state ', 'unknown_state ', 'unknown_state ']\n",
      "['Negative ', 'Negative ', 'Negative ']\n",
      "['Positive ', 'Positive ', 'Positive ']\n",
      "['Positive ', 'Positive ', 'Positive ']\n",
      "['Positive ', 'not-malayalam ', 'Positive ']\n",
      "['Positive ', 'Positive ', 'Positive ']\n",
      "['Positive ', 'Positive ', 'Positive ']\n",
      "['Mixed_feelings ', 'Positive ', 'Positive ']\n",
      "['Positive ', 'Positive ', 'Positive ']\n",
      "['not-malayalam ', 'Positive ', 'not-malayalam ']\n",
      "['unknown_state ', 'unknown_state ', 'Positive ']\n",
      "['Positive ', 'Positive ', 'Positive ']\n",
      "['Positive ', 'Positive ', 'Positive ']\n",
      "['unknown_state ', 'unknown_state ', 'unknown_state ']\n",
      "['unknown_state ', 'unknown_state ', 'unknown_state ']\n",
      "['unknown_state ', 'unknown_state ', 'unknown_state ']\n",
      "['Positive ', 'Positive ', 'Positive ']\n",
      "['Mixed_feelings ', 'Mixed_feelings ', 'Mixed_feelings ']\n",
      "['unknown_state ', 'unknown_state ', 'unknown_state ']\n",
      "['unknown_state ', 'unknown_state ', 'unknown_state ']\n",
      "['Negative ', 'Negative ', 'Negative ']\n",
      "['Positive ', 'Positive ', 'Positive ']\n",
      "['unknown_state ', 'unknown_state ', 'unknown_state ']\n",
      "['not-malayalam ', 'not-malayalam ', 'not-malayalam ']\n",
      "['unknown_state ', 'Positive ', 'Mixed_feelings ']\n",
      "['Negative ', 'unknown_state ', 'Negative ']\n",
      "['Positive ', 'Positive ', 'Positive ']\n",
      "['Positive ', 'not-malayalam ', 'Positive ']\n",
      "['Positive ', 'Positive ', 'Positive ']\n",
      "['Positive ', 'unknown_state ', 'unknown_state ']\n",
      "['Positive ', 'Negative ', 'Negative ']\n",
      "['unknown_state ', 'unknown_state ', 'unknown_state ']\n",
      "['unknown_state ', 'unknown_state ', 'unknown_state ']\n",
      "['Negative ', 'Negative ', 'Negative ']\n",
      "['Positive ', 'unknown_state ', 'unknown_state ']\n",
      "['Positive ', 'Positive ', 'Positive ']\n",
      "['not-malayalam ', 'not-malayalam ', 'not-malayalam ']\n",
      "['not-malayalam ', 'not-malayalam ', 'not-malayalam ']\n",
      "['unknown_state ', 'not-malayalam ', 'Positive ']\n",
      "['unknown_state ', 'unknown_state ', 'unknown_state ']\n",
      "['not-malayalam ', 'not-malayalam ', 'not-malayalam ']\n",
      "['unknown_state ', 'unknown_state ', 'Positive ']\n",
      "['Positive ', 'Positive ', 'Positive ']\n",
      "['unknown_state ', 'unknown_state ', 'unknown_state ']\n",
      "['unknown_state ', 'unknown_state ', 'unknown_state ']\n",
      "['Mixed_feelings ', 'unknown_state ', 'unknown_state ']\n",
      "['unknown_state ', 'unknown_state ', 'unknown_state ']\n",
      "['Negative ', 'Negative ', 'Negative ']\n",
      "['unknown_state ', 'Positive ', 'Positive ']\n",
      "['unknown_state ', 'Positive ', 'Positive ']\n",
      "['Positive ', 'Positive ', 'Positive ']\n",
      "['unknown_state ', 'unknown_state ', 'unknown_state ']\n",
      "['Positive ', 'Positive ', 'Positive ']\n",
      "['not-malayalam ', 'not-malayalam ', 'not-malayalam ']\n",
      "['Positive ', 'Positive ', 'Positive ']\n",
      "['Positive ', 'unknown_state ', 'Positive ']\n",
      "['unknown_state ', 'unknown_state ', 'unknown_state ']\n",
      "['unknown_state ', 'unknown_state ', 'unknown_state ']\n",
      "['unknown_state ', 'unknown_state ', 'unknown_state ']\n",
      "['not-malayalam ', 'not-malayalam ', 'not-malayalam ']\n",
      "['unknown_state ', 'Positive ', 'Positive ']\n",
      "['not-malayalam ', 'not-malayalam ', 'not-malayalam ']\n",
      "['Positive ', 'unknown_state ', 'Positive ']\n",
      "['unknown_state ', 'not-malayalam ', 'not-malayalam ']\n",
      "['Positive ', 'Positive ', 'Positive ']\n",
      "['unknown_state ', 'Positive ', 'unknown_state ']\n",
      "['unknown_state ', 'unknown_state ', 'unknown_state ']\n",
      "['Mixed_feelings ', 'Positive ', 'Positive ']\n",
      "['Positive ', 'Positive ', 'Positive ']\n",
      "['Positive ', 'Positive ', 'Positive ']\n",
      "['unknown_state ', 'unknown_state ', 'unknown_state ']\n",
      "['unknown_state ', 'unknown_state ', 'unknown_state ']\n",
      "['unknown_state ', 'not-malayalam ', 'not-malayalam ']\n",
      "['unknown_state ', 'unknown_state ', 'unknown_state ']\n",
      "['not-malayalam ', 'not-malayalam ', 'not-malayalam ']\n",
      "['unknown_state ', 'unknown_state ', 'unknown_state ']\n",
      "['not-malayalam ', 'not-malayalam ', 'not-malayalam ']\n",
      "['not-malayalam ', 'unknown_state ', 'not-malayalam ']\n",
      "['unknown_state ', 'unknown_state ', 'unknown_state ']\n",
      "['Positive ', 'Positive ', 'not-malayalam ']\n",
      "['not-malayalam ', 'not-malayalam ', 'not-malayalam ']\n",
      "['Positive ', 'Positive ', 'Positive ']\n",
      "['unknown_state ', 'not-malayalam ', 'not-malayalam ']\n",
      "['unknown_state ', 'unknown_state ', 'unknown_state ']\n",
      "['Positive ', 'Positive ', 'Positive ']\n",
      "['Positive ', 'Positive ', 'Positive ']\n",
      "['Negative ', 'Negative ', 'unknown_state ']\n",
      "['Positive ', 'Positive ', 'Positive ']\n",
      "['unknown_state ', 'Positive ', 'unknown_state ']\n",
      "['Positive ', 'Positive ', 'Positive ']\n",
      "['unknown_state ', 'Positive ', 'Positive ']\n",
      "['Positive ', 'Positive ', 'Positive ']\n",
      "['Positive ', 'Positive ', 'Positive ']\n",
      "['not-malayalam ', 'not-malayalam ', 'unknown_state ']\n",
      "['Negative ', 'Positive ', 'Positive ']\n",
      "['Positive ', 'Positive ', 'Negative ']\n",
      "['unknown_state ', 'not-malayalam ', 'unknown_state ']\n",
      "['Positive ', 'Positive ', 'Positive ']\n",
      "['Positive ', 'Positive ', 'Positive ']\n",
      "['Positive ', 'Positive ', 'Positive ']\n",
      "['Positive ', 'Positive ', 'Positive ']\n",
      "['unknown_state ', 'unknown_state ', 'unknown_state ']\n",
      "['not-malayalam ', 'not-malayalam ', 'not-malayalam ']\n",
      "['unknown_state ', 'Positive ', 'unknown_state ']\n",
      "['unknown_state ', 'not-malayalam ', 'unknown_state ']\n",
      "['unknown_state ', 'unknown_state ', 'unknown_state ']\n",
      "['Positive ', 'Positive ', 'Positive ']\n",
      "['unknown_state ', 'unknown_state ', 'unknown_state ']\n",
      "['unknown_state ', 'unknown_state ', 'unknown_state ']\n",
      "['unknown_state ', 'unknown_state ', 'unknown_state ']\n",
      "['unknown_state ', 'Positive ', 'unknown_state ']\n",
      "['Positive ', 'Positive ', 'Positive ']\n",
      "['unknown_state ', 'Positive ', 'unknown_state ']\n",
      "['Negative ', 'Positive ', 'Positive ']\n",
      "['unknown_state ', 'not-malayalam ', 'not-malayalam ']\n",
      "['Positive ', 'Positive ', 'Positive ']\n",
      "['unknown_state ', 'unknown_state ', 'unknown_state ']\n",
      "['not-malayalam ', 'not-malayalam ', 'not-malayalam ']\n",
      "['Positive ', 'Positive ', 'Positive ']\n",
      "['Positive ', 'not-malayalam ', 'unknown_state ']\n",
      "['Positive ', 'unknown_state ', 'unknown_state ']\n",
      "['Positive ', 'Positive ', 'Positive ']\n",
      "['Positive ', 'not-malayalam ', 'not-malayalam ']\n",
      "['unknown_state ', 'Positive ', 'not-malayalam ']\n",
      "['unknown_state ', 'Positive ', 'not-malayalam ']\n",
      "['unknown_state ', 'unknown_state ', 'unknown_state ']\n",
      "['unknown_state ', 'unknown_state ', 'unknown_state ']\n",
      "['Positive ', 'Positive ', 'unknown_state ']\n",
      "['not-malayalam ', 'not-malayalam ', 'not-malayalam ']\n",
      "['Positive ', 'Positive ', 'Positive ']\n",
      "['Positive ', 'not-malayalam ', 'not-malayalam ']\n",
      "['unknown_state ', 'not-malayalam ', 'Positive ']\n",
      "['Positive ', 'Positive ', 'Positive ']\n",
      "['Positive ', 'Positive ', 'Positive ']\n",
      "['unknown_state ', 'unknown_state ', 'unknown_state ']\n",
      "['Mixed_feelings ', 'Mixed_feelings ', 'Mixed_feelings ']\n",
      "['unknown_state ', 'unknown_state ', 'unknown_state ']\n",
      "['not-malayalam ', 'not-malayalam ', 'not-malayalam ']\n",
      "['not-malayalam ', 'not-malayalam ', 'not-malayalam ']\n",
      "['not-malayalam ', 'not-malayalam ', 'not-malayalam ']\n",
      "['Positive ', 'Positive ', 'Positive ']\n",
      "['Positive ', 'Negative ', 'Negative ']\n",
      "['Positive ', 'Positive ', 'Positive ']\n",
      "['unknown_state ', 'unknown_state ', 'unknown_state ']\n",
      "['not-malayalam ', 'not-malayalam ', 'not-malayalam ']\n",
      "['Positive ', 'Positive ', 'Positive ']\n",
      "['Mixed_feelings ', 'Positive ', 'Positive ']\n",
      "['unknown_state ', 'unknown_state ', 'Mixed_feelings ']\n",
      "['Positive ', 'Positive ', 'Positive ']\n",
      "['unknown_state ', 'unknown_state ', 'unknown_state ']\n",
      "['unknown_state ', 'unknown_state ', 'unknown_state ']\n",
      "['unknown_state ', 'unknown_state ', 'unknown_state ']\n",
      "['Positive ', 'not-malayalam ', 'not-malayalam ']\n",
      "['not-malayalam ', 'not-malayalam ', 'unknown_state ']\n",
      "['unknown_state ', 'Positive ', 'Positive ']\n",
      "['not-malayalam ', 'Positive ', 'unknown_state ']\n",
      "['Positive ', 'Positive ', 'Positive ']\n",
      "['Negative ', 'Negative ', 'Negative ']\n",
      "['Positive ', 'Positive ', 'Positive ']\n",
      "['not-malayalam ', 'Positive ', 'Positive ']\n",
      "['unknown_state ', 'unknown_state ', 'unknown_state ']\n",
      "['unknown_state ', 'unknown_state ', 'unknown_state ']\n",
      "['not-malayalam ', 'not-malayalam ', 'not-malayalam ']\n",
      "['Positive ', 'Positive ', 'Positive ']\n",
      "['Positive ', 'Positive ', 'Positive ']\n",
      "['unknown_state ', 'unknown_state ', 'unknown_state ']\n",
      "['Positive ', 'Positive ', 'Positive ']\n",
      "['Positive ', 'Positive ', 'Positive ']\n",
      "['unknown_state ', 'unknown_state ', 'unknown_state ']\n",
      "['Negative ', 'unknown_state ', 'Negative ']\n",
      "['unknown_state ', 'unknown_state ', 'unknown_state ']\n",
      "['Positive ', 'Positive ', 'Positive ']\n",
      "['not-malayalam ', 'not-malayalam ', 'not-malayalam ']\n",
      "['Mixed_feelings ', 'Positive ', 'Negative ']\n",
      "['not-malayalam ', 'not-malayalam ', 'unknown_state ']\n",
      "['Mixed_feelings ', 'Mixed_feelings ', 'unknown_state ']\n",
      "['Negative ', 'Negative ', 'unknown_state ']\n",
      "['Positive ', 'unknown_state ', 'unknown_state ']\n",
      "['Positive ', 'Positive ', 'Positive ']\n",
      "['unknown_state ', 'not-malayalam ', 'not-malayalam ']\n",
      "['unknown_state ', 'unknown_state ', 'unknown_state ']\n",
      "['unknown_state ', 'unknown_state ', 'unknown_state ']\n",
      "['unknown_state ', 'unknown_state ', 'unknown_state ']\n",
      "['Positive ', 'Positive ', 'Positive ']\n",
      "['not-malayalam ', 'not-malayalam ', 'not-malayalam ']\n",
      "['Positive ', 'Positive ', 'Positive ']\n",
      "['Positive ', 'Positive ', 'Positive ']\n",
      "['unknown_state ', 'unknown_state ', 'unknown_state ']\n",
      "['unknown_state ', 'not-malayalam ', 'not-malayalam ']\n",
      "['unknown_state ', 'unknown_state ', 'Positive ']\n",
      "['unknown_state ', 'Negative ', 'Positive ']\n",
      "['Positive ', 'Positive ', 'Positive ']\n",
      "['unknown_state ', 'unknown_state ', 'unknown_state ']\n",
      "['Positive ', 'Positive ', 'Positive ']\n",
      "['Negative ', 'Positive ', 'Positive ']\n",
      "['Positive ', 'Positive ', 'Positive ']\n",
      "['not-malayalam ', 'not-malayalam ', 'not-malayalam ']\n",
      "['Positive ', 'Positive ', 'Positive ']\n",
      "['Positive ', 'not-malayalam ', 'not-malayalam ']\n",
      "['unknown_state ', 'Positive ', 'Positive ']\n",
      "['unknown_state ', 'unknown_state ', 'not-malayalam ']\n",
      "['Positive ', 'Positive ', 'Positive ']\n",
      "['Positive ', 'Positive ', 'Positive ']\n",
      "['unknown_state ', 'unknown_state ', 'unknown_state ']\n",
      "['Positive ', 'Positive ', 'Positive ']\n",
      "['unknown_state ', 'Negative ', 'Positive ']\n",
      "['Positive ', 'Positive ', 'Positive ']\n",
      "['unknown_state ', 'unknown_state ', 'unknown_state ']\n",
      "['not-malayalam ', 'not-malayalam ', 'not-malayalam ']\n",
      "['unknown_state ', 'Positive ', 'Positive ']\n",
      "['Positive ', 'Positive ', 'Positive ']\n",
      "['unknown_state ', 'unknown_state ', 'unknown_state ']\n",
      "['Mixed_feelings ', 'Mixed_feelings ', 'Mixed_feelings ']\n",
      "['Positive ', 'Positive ', 'Positive ']\n",
      "['unknown_state ', 'unknown_state ', 'not-malayalam ']\n",
      "['unknown_state ', 'unknown_state ', 'Positive ']\n",
      "['unknown_state ', 'unknown_state ', 'unknown_state ']\n",
      "['unknown_state ', 'unknown_state ', 'Positive ']\n",
      "['not-malayalam ', 'not-malayalam ', 'not-malayalam ']\n",
      "['Positive ', 'Positive ', 'Positive ']\n",
      "['Positive ', 'Positive ', 'Positive ']\n",
      "['Positive ', 'Positive ', 'Mixed_feelings ']\n",
      "['Mixed_feelings ', 'Positive ', 'unknown_state ']\n",
      "['Positive ', 'Positive ', 'Positive ']\n",
      "['unknown_state ', 'unknown_state ', 'Positive ']\n",
      "['Positive ', 'Positive ', 'Positive ']\n",
      "['unknown_state ', 'Positive ', 'unknown_state ']\n",
      "['Positive ', 'not-malayalam ', 'not-malayalam ']\n",
      "['Mixed_feelings ', 'Mixed_feelings ', 'Mixed_feelings ']\n",
      "['Positive ', 'Positive ', 'Positive ']\n",
      "['Positive ', 'Positive ', 'Positive ']\n",
      "['unknown_state ', 'unknown_state ', 'Positive ']\n",
      "['Positive ', 'Positive ', 'Positive ']\n",
      "['Negative ', 'Negative ', 'unknown_state ']\n",
      "['Mixed_feelings ', 'Positive ', 'Mixed_feelings ']\n",
      "['unknown_state ', 'Positive ', 'Positive ']\n",
      "['Positive ', 'Positive ', 'Positive ']\n",
      "['Positive ', 'Positive ', 'Positive ']\n",
      "['Positive ', 'Positive ', 'Positive ']\n",
      "['Positive ', 'unknown_state ', 'Positive ']\n",
      "['Positive ', 'Positive ', 'Positive ']\n",
      "['Positive ', 'Positive ', 'Positive ']\n",
      "['unknown_state ', 'Positive ', 'Positive ']\n",
      "['unknown_state ', 'Negative ', 'Positive ']\n",
      "['Negative ', 'Negative ', 'Negative ']\n",
      "['Positive ', 'Positive ', 'unknown_state ']\n",
      "['unknown_state ', 'unknown_state ', 'unknown_state ']\n",
      "['Positive ', 'Positive ', 'Negative ']\n",
      "['Negative ', 'Negative ', 'Negative ']\n",
      "['Positive ', 'Positive ', 'Positive ']\n",
      "['Positive ', 'Mixed_feelings ', 'Positive ']\n",
      "['unknown_state ', 'unknown_state ', 'Positive ']\n",
      "['Negative ', 'unknown_state ', 'Negative ']\n",
      "['not-malayalam ', 'Positive ', 'Positive ']\n",
      "['unknown_state ', 'unknown_state ', 'not-malayalam ']\n",
      "['unknown_state ', 'not-malayalam ', 'not-malayalam ']\n",
      "['unknown_state ', 'unknown_state ', 'unknown_state ']\n",
      "['Positive ', 'Positive ', 'Positive ']\n",
      "['not-malayalam ', 'unknown_state ', 'not-malayalam ']\n",
      "['unknown_state ', 'Positive ', 'Negative ']\n",
      "['Mixed_feelings ', 'unknown_state ', 'Positive ']\n",
      "['unknown_state ', 'Positive ', 'Positive ']\n",
      "['Mixed_feelings ', 'Positive ', 'Positive ']\n",
      "['Mixed_feelings ', 'Positive ', 'Positive ']\n",
      "['unknown_state ', 'Positive ', 'unknown_state ']\n",
      "['unknown_state ', 'unknown_state ', 'unknown_state ']\n",
      "['not-malayalam ', 'not-malayalam ', 'not-malayalam ']\n",
      "['Mixed_feelings ', 'Positive ', 'Positive ']\n",
      "['Mixed_feelings ', 'Mixed_feelings ', 'unknown_state ']\n",
      "['Positive ', 'unknown_state ', 'unknown_state ']\n",
      "['Positive ', 'Positive ', 'Positive ']\n",
      "['unknown_state ', 'unknown_state ', 'unknown_state ']\n",
      "['Mixed_feelings ', 'unknown_state ', 'unknown_state ']\n",
      "['Positive ', 'Positive ', 'Positive ']\n",
      "['Positive ', 'Positive ', 'Positive ']\n",
      "['Mixed_feelings ', 'Positive ', 'Mixed_feelings ']\n",
      "['not-malayalam ', 'not-malayalam ', 'not-malayalam ']\n",
      "['Positive ', 'Positive ', 'Positive ']\n",
      "['unknown_state ', 'unknown_state ', 'unknown_state ']\n",
      "['Positive ', 'Positive ', 'Positive ']\n",
      "['Positive ', 'Positive ', 'Positive ']\n",
      "['Positive ', 'Positive ', 'Positive ']\n",
      "['Positive ', 'Positive ', 'Positive ']\n",
      "['Positive ', 'Positive ', 'Positive ']\n",
      "['Mixed_feelings ', 'Negative ', 'Mixed_feelings ']\n",
      "['Positive ', 'Positive ', 'Positive ']\n",
      "['unknown_state ', 'unknown_state ', 'unknown_state ']\n",
      "['not-malayalam ', 'not-malayalam ', 'Negative ']\n",
      "['unknown_state ', 'unknown_state ', 'unknown_state ']\n",
      "['unknown_state ', 'unknown_state ', 'unknown_state ']\n",
      "['unknown_state ', 'unknown_state ', 'not-malayalam ']\n",
      "['unknown_state ', 'Mixed_feelings ', 'Positive ']\n",
      "['unknown_state ', 'unknown_state ', 'unknown_state ']\n",
      "['Positive ', 'Positive ', 'Positive ']\n",
      "['unknown_state ', 'unknown_state ', 'not-malayalam ']\n",
      "['unknown_state ', 'Positive ', 'unknown_state ']\n",
      "['unknown_state ', 'unknown_state ', 'Positive ']\n",
      "['Negative ', 'Negative ', 'Negative ']\n",
      "['unknown_state ', 'unknown_state ', 'not-malayalam ']\n",
      "['Positive ', 'Positive ', 'Positive ']\n",
      "['Positive ', 'Positive ', 'Positive ']\n",
      "['Negative ', 'Negative ', 'Negative ']\n",
      "['unknown_state ', 'unknown_state ', 'Positive ']\n",
      "['Positive ', 'Positive ', 'Positive ']\n",
      "['Positive ', 'Positive ', 'Positive ']\n",
      "['Positive ', 'Positive ', 'Positive ']\n",
      "['Positive ', 'Positive ', 'Positive ']\n",
      "['Positive ', 'unknown_state ', 'unknown_state ']\n",
      "['unknown_state ', 'unknown_state ', 'Positive ']\n",
      "['not-malayalam ', 'not-malayalam ', 'not-malayalam ']\n",
      "['Positive ', 'Positive ', 'Positive ']\n",
      "['Positive ', 'Positive ', 'Negative ']\n",
      "['Positive ', 'Positive ', 'Positive ']\n",
      "['unknown_state ', 'unknown_state ', 'unknown_state ']\n",
      "['Negative ', 'unknown_state ', 'not-malayalam ']\n",
      "['not-malayalam ', 'not-malayalam ', 'not-malayalam ']\n",
      "['unknown_state ', 'unknown_state ', 'unknown_state ']\n",
      "['not-malayalam ', 'not-malayalam ', 'not-malayalam ']\n",
      "['Positive ', 'Positive ', 'Positive ']\n",
      "['Mixed_feelings ', 'Mixed_feelings ', 'Mixed_feelings ']\n",
      "['unknown_state ', 'Positive ', 'Positive ']\n",
      "['Positive ', 'Positive ', 'Positive ']\n",
      "['unknown_state ', 'Positive ', 'not-malayalam ']\n",
      "['not-malayalam ', 'not-malayalam ', 'not-malayalam ']\n",
      "['Positive ', 'Positive ', 'Positive ']\n",
      "['unknown_state ', 'Positive ', 'Positive ']\n",
      "['unknown_state ', 'unknown_state ', 'unknown_state ']\n",
      "['unknown_state ', 'Positive ', 'Positive ']\n",
      "['Positive ', 'Positive ', 'Positive ']\n",
      "['Positive ', 'Positive ', 'Positive ']\n",
      "['unknown_state ', 'Positive ', 'unknown_state ']\n",
      "['unknown_state ', 'unknown_state ', 'unknown_state ']\n",
      "['Positive ', 'Positive ', 'Positive ']\n",
      "['Positive ', 'Positive ', 'Positive ']\n",
      "['unknown_state ', 'unknown_state ', 'unknown_state ']\n",
      "['Positive ', 'Positive ', 'Positive ']\n",
      "['Positive ', 'Positive ', 'Positive ']\n",
      "['Positive ', 'Positive ', 'Positive ']\n",
      "['not-malayalam ', 'not-malayalam ', 'not-malayalam ']\n",
      "['Mixed_feelings ', 'Positive ', 'Positive ']\n",
      "['Negative ', 'Negative ', 'Negative ']\n",
      "['unknown_state ', 'Positive ', 'unknown_state ']\n",
      "['unknown_state ', 'Positive ', 'Mixed_feelings ']\n",
      "['unknown_state ', 'Negative ', 'unknown_state ']\n",
      "['unknown_state ', 'Mixed_feelings ', 'Mixed_feelings ']\n",
      "['Positive ', 'Positive ', 'Positive ']\n",
      "['unknown_state ', 'Mixed_feelings ', 'Positive ']\n",
      "['Positive ', 'Positive ', 'Positive ']\n",
      "['unknown_state ', 'Positive ', 'Positive ']\n",
      "['Positive ', 'Positive ', 'Positive ']\n",
      "['unknown_state ', 'unknown_state ', 'Positive ']\n",
      "['Positive ', 'Positive ', 'Positive ']\n",
      "['Mixed_feelings ', 'Positive ', 'Positive ']\n",
      "['Positive ', 'Positive ', 'Positive ']\n",
      "['Positive ', 'Positive ', 'Positive ']\n",
      "['unknown_state ', 'Positive ', 'unknown_state ']\n",
      "['unknown_state ', 'Positive ', 'Positive ']\n",
      "['unknown_state ', 'unknown_state ', 'Positive ']\n",
      "['Positive ', 'Positive ', 'Positive ']\n",
      "['unknown_state ', 'unknown_state ', 'unknown_state ']\n",
      "['not-malayalam ', 'not-malayalam ', 'not-malayalam ']\n",
      "['Positive ', 'Positive ', 'Positive ']\n",
      "['unknown_state ', 'unknown_state ', 'unknown_state ']\n",
      "['not-malayalam ', 'not-malayalam ', 'not-malayalam ']\n",
      "['Positive ', 'not-malayalam ', 'not-malayalam ']\n",
      "['Positive ', 'Positive ', 'Positive ']\n",
      "['Positive ', 'Positive ', 'Positive ']\n",
      "['unknown_state ', 'Positive ', 'Positive ']\n",
      "['Positive ', 'Positive ', 'Positive ']\n",
      "['unknown_state ', 'Positive ', 'Positive ']\n",
      "['unknown_state ', 'unknown_state ', 'unknown_state ']\n",
      "['Positive ', 'Positive ', 'Positive ']\n",
      "['unknown_state ', 'unknown_state ', 'Positive ']\n",
      "['unknown_state ', 'unknown_state ', 'unknown_state ']\n",
      "['unknown_state ', 'unknown_state ', 'not-malayalam ']\n",
      "['unknown_state ', 'Positive ', 'Positive ']\n",
      "['Mixed_feelings ', 'Mixed_feelings ', 'unknown_state ']\n",
      "['unknown_state ', 'unknown_state ', 'unknown_state ']\n",
      "['unknown_state ', 'unknown_state ', 'unknown_state ']\n",
      "['unknown_state ', 'unknown_state ', 'unknown_state ']\n",
      "['unknown_state ', 'Positive ', 'Positive ']\n",
      "['Positive ', 'Positive ', 'Positive ']\n",
      "['unknown_state ', 'unknown_state ', 'unknown_state ']\n",
      "['Mixed_feelings ', 'unknown_state ', 'Negative ']\n",
      "['Positive ', 'Positive ', 'unknown_state ']\n",
      "['not-malayalam ', 'not-malayalam ', 'not-malayalam ']\n",
      "['unknown_state ', 'unknown_state ', 'unknown_state ']\n",
      "['unknown_state ', 'Positive ', 'Positive ']\n",
      "['unknown_state ', 'Negative ', 'Negative ']\n",
      "['unknown_state ', 'unknown_state ', 'unknown_state ']\n",
      "['Positive ', 'Positive ', 'Positive ']\n",
      "['Positive ', 'Positive ', 'Positive ']\n",
      "['unknown_state ', 'unknown_state ', 'unknown_state ']\n",
      "['Positive ', 'Positive ', 'Positive ']\n",
      "['Positive ', 'Positive ', 'Positive ']\n",
      "['Positive ', 'Positive ', 'Positive ']\n",
      "['Positive ', 'Positive ', 'Positive ']\n",
      "['unknown_state ', 'unknown_state ', 'unknown_state ']\n",
      "['unknown_state ', 'unknown_state ', 'Positive ']\n",
      "['unknown_state ', 'Positive ', 'unknown_state ']\n",
      "['Positive ', 'not-malayalam ', 'not-malayalam ']\n",
      "['Positive ', 'Positive ', 'Positive ']\n",
      "['Positive ', 'Positive ', 'Positive ']\n",
      "['Positive ', 'Positive ', 'Positive ']\n",
      "['Positive ', 'Positive ', 'Positive ']\n",
      "['unknown_state ', 'Positive ', 'unknown_state ']\n",
      "['Positive ', 'Positive ', 'Positive ']\n",
      "['Positive ', 'Positive ', 'unknown_state ']\n",
      "['unknown_state ', 'unknown_state ', 'unknown_state ']\n",
      "['Positive ', 'Positive ', 'Positive ']\n",
      "['Negative ', 'Negative ', 'Negative ']\n",
      "['Positive ', 'Positive ', 'Positive ']\n",
      "['Negative ', 'Mixed_feelings ', 'Negative ']\n",
      "['Mixed_feelings ', 'unknown_state ', 'unknown_state ']\n",
      "['Positive ', 'Positive ', 'Positive ']\n",
      "['Positive ', 'Positive ', 'not-malayalam ']\n",
      "['Negative ', 'Negative ', 'Negative ']\n",
      "['Positive ', 'Positive ', 'Positive ']\n",
      "['unknown_state ', 'unknown_state ', 'not-malayalam ']\n",
      "['unknown_state ', 'Positive ', 'unknown_state ']\n",
      "['Mixed_feelings ', 'Positive ', 'unknown_state ']\n",
      "['Mixed_feelings ', 'Positive ', 'Positive ']\n",
      "['Positive ', 'Positive ', 'not-malayalam ']\n",
      "['Positive ', 'Positive ', 'not-malayalam ']\n",
      "['Positive ', 'Positive ', 'Positive ']\n",
      "['not-malayalam ', 'not-malayalam ', 'not-malayalam ']\n",
      "['unknown_state ', 'unknown_state ', 'unknown_state ']\n",
      "['unknown_state ', 'not-malayalam ', 'not-malayalam ']\n",
      "['Positive ', 'not-malayalam ', 'not-malayalam ']\n",
      "['Positive ', 'Positive ', 'Positive ']\n",
      "['Positive ', 'Positive ', 'Positive ']\n",
      "['not-malayalam ', 'not-malayalam ', 'not-malayalam ']\n",
      "['unknown_state ', 'not-malayalam ', 'not-malayalam ']\n",
      "['Positive ', 'Positive ', 'Positive ']\n",
      "['Negative ', 'Negative ', 'Negative ']\n",
      "['unknown_state ', 'unknown_state ', 'unknown_state ']\n",
      "['unknown_state ', 'not-malayalam ', 'not-malayalam ']\n",
      "['unknown_state ', 'Positive ', 'Positive ']\n",
      "['unknown_state ', 'unknown_state ', 'Negative ']\n",
      "['Positive ', 'Positive ', 'Positive ']\n",
      "['Positive ', 'Positive ', 'Positive ']\n",
      "['unknown_state ', 'unknown_state ', 'unknown_state ']\n",
      "['Positive ', 'Positive ', 'Positive ']\n",
      "['Positive ', 'Positive ', 'Positive ']\n",
      "['Positive ', 'Positive ', 'Positive ']\n",
      "['unknown_state ', 'Positive ', 'unknown_state ']\n",
      "['Positive ', 'unknown_state ', 'Positive ']\n",
      "['Positive ', 'Positive ', 'Positive ']\n",
      "['Positive ', 'Positive ', 'Positive ']\n",
      "['unknown_state ', 'Positive ', 'Positive ']\n",
      "['Positive ', 'Positive ', 'Positive ']\n",
      "['Positive ', 'unknown_state ', 'Positive ']\n",
      "['unknown_state ', 'Positive ', 'Positive ']\n",
      "['unknown_state ', 'Positive ', 'unknown_state ']\n",
      "['Negative ', 'Negative ', 'Negative ']\n",
      "['unknown_state ', 'Positive ', 'Positive ']\n",
      "['Mixed_feelings ', 'Positive ', 'unknown_state ']\n",
      "['Positive ', 'Positive ', 'Positive ']\n",
      "['unknown_state ', 'unknown_state ', 'unknown_state ']\n",
      "['not-malayalam ', 'not-malayalam ', 'not-malayalam ']\n",
      "['Positive ', 'Positive ', 'unknown_state ']\n",
      "['unknown_state ', 'unknown_state ', 'unknown_state ']\n",
      "['not-malayalam ', 'not-malayalam ', 'not-malayalam ']\n",
      "['unknown_state ', 'unknown_state ', 'unknown_state ']\n",
      "['Positive ', 'Positive ', 'Positive ']\n",
      "['Positive ', 'Positive ', 'Positive ']\n",
      "['Positive ', 'Mixed_feelings ', 'unknown_state ']\n",
      "['Mixed_feelings ', 'Mixed_feelings ', 'Mixed_feelings ']\n",
      "['unknown_state ', 'unknown_state ', 'unknown_state ']\n",
      "['unknown_state ', 'unknown_state ', 'unknown_state ']\n",
      "['unknown_state ', 'unknown_state ', 'unknown_state ']\n",
      "['Positive ', 'Positive ', 'Positive ']\n",
      "['unknown_state ', 'unknown_state ', 'unknown_state ']\n",
      "['not-malayalam ', 'Positive ', 'Positive ']\n",
      "['unknown_state ', 'unknown_state ', 'unknown_state ']\n",
      "['Positive ', 'not-malayalam ', 'not-malayalam ']\n",
      "['Positive ', 'Positive ', 'Positive ']\n",
      "['Mixed_feelings ', 'Mixed_feelings ', 'Mixed_feelings ']\n",
      "['not-malayalam ', 'Negative ', 'not-malayalam ']\n",
      "['Positive ', 'Positive ', 'Positive ']\n",
      "['Positive ', 'Positive ', 'Positive ']\n",
      "['Positive ', 'Positive ', 'not-malayalam ']\n",
      "['unknown_state ', 'Positive ', 'Positive ']\n",
      "['unknown_state ', 'Positive ', 'Positive ']\n",
      "['unknown_state ', 'unknown_state ', 'unknown_state ']\n",
      "['Positive ', 'Positive ', 'Positive ']\n",
      "['unknown_state ', 'unknown_state ', 'unknown_state ']\n",
      "['unknown_state ', 'Negative ', 'Positive ']\n",
      "['Positive ', 'not-malayalam ', 'not-malayalam ']\n",
      "['unknown_state ', 'unknown_state ', 'unknown_state ']\n",
      "['unknown_state ', 'not-malayalam ', 'not-malayalam ']\n",
      "['Positive ', 'Positive ', 'Positive ']\n",
      "['unknown_state ', 'unknown_state ', 'unknown_state ']\n",
      "['unknown_state ', 'unknown_state ', 'unknown_state ']\n",
      "['unknown_state ', 'unknown_state ', 'Positive ']\n",
      "['unknown_state ', 'unknown_state ', 'unknown_state ']\n",
      "['Positive ', 'unknown_state ', 'unknown_state ']\n",
      "['Positive ', 'Positive ', 'Positive ']\n",
      "['Positive ', 'Positive ', 'Positive ']\n",
      "['Positive ', 'Positive ', 'Positive ']\n",
      "['not-malayalam ', 'not-malayalam ', 'not-malayalam ']\n",
      "['not-malayalam ', 'not-malayalam ', 'not-malayalam ']\n",
      "['Negative ', 'Negative ', 'Negative ']\n",
      "['Positive ', 'Positive ', 'Positive ']\n",
      "['Mixed_feelings ', 'Positive ', 'Positive ']\n",
      "['Positive ', 'Negative ', 'unknown_state ']\n",
      "['unknown_state ', 'Positive ', 'unknown_state ']\n",
      "['Positive ', 'Positive ', 'Positive ']\n",
      "['Mixed_feelings ', 'Mixed_feelings ', 'Positive ']\n",
      "['Positive ', 'Positive ', 'unknown_state ']\n",
      "['Positive ', 'Positive ', 'Positive ']\n",
      "['Positive ', 'Positive ', 'Positive ']\n",
      "['unknown_state ', 'not-malayalam ', 'not-malayalam ']\n",
      "['unknown_state ', 'Positive ', 'unknown_state ']\n",
      "['Positive ', 'Positive ', 'Positive ']\n",
      "['unknown_state ', 'unknown_state ', 'unknown_state ']\n",
      "['Positive ', 'unknown_state ', 'Positive ']\n",
      "['unknown_state ', 'unknown_state ', 'unknown_state ']\n",
      "['Positive ', 'Positive ', 'Positive ']\n",
      "['unknown_state ', 'unknown_state ', 'not-malayalam ']\n",
      "['Mixed_feelings ', 'Mixed_feelings ', 'Mixed_feelings ']\n",
      "['not-malayalam ', 'not-malayalam ', 'not-malayalam ']\n",
      "['unknown_state ', 'unknown_state ', 'unknown_state ']\n",
      "['not-malayalam ', 'not-malayalam ', 'not-malayalam ']\n",
      "['Positive ', 'not-malayalam ', 'Positive ']\n",
      "['Positive ', 'Positive ', 'Positive ']\n",
      "['Positive ', 'not-malayalam ', 'not-malayalam ']\n",
      "['Positive ', 'Positive ', 'Positive ']\n",
      "['unknown_state ', 'unknown_state ', 'unknown_state ']\n",
      "['Positive ', 'unknown_state ', 'Positive ']\n",
      "['Positive ', 'not-malayalam ', 'Positive ']\n",
      "['not-malayalam ', 'not-malayalam ', 'not-malayalam ']\n",
      "['unknown_state ', 'unknown_state ', 'unknown_state ']\n",
      "['Positive ', 'Positive ', 'Positive ']\n",
      "['not-malayalam ', 'not-malayalam ', 'not-malayalam ']\n",
      "['Positive ', 'Positive ', 'Positive ']\n",
      "['unknown_state ', 'unknown_state ', 'unknown_state ']\n",
      "['Negative ', 'Positive ', 'unknown_state ']\n",
      "['unknown_state ', 'unknown_state ', 'unknown_state ']\n",
      "['unknown_state ', 'unknown_state ', 'unknown_state ']\n",
      "['Positive ', 'Positive ', 'Positive ']\n",
      "['Positive ', 'Positive ', 'Positive ']\n",
      "['Positive ', 'Positive ', 'unknown_state ']\n",
      "['not-malayalam ', 'not-malayalam ', 'not-malayalam ']\n",
      "['Negative ', 'not-malayalam ', 'not-malayalam ']\n",
      "['not-malayalam ', 'not-malayalam ', 'not-malayalam ']\n",
      "['unknown_state ', 'unknown_state ', 'unknown_state ']\n",
      "['Positive ', 'Positive ', 'Positive ']\n",
      "['unknown_state ', 'Positive ', 'Positive ']\n",
      "['unknown_state ', 'unknown_state ', 'unknown_state ']\n",
      "['not-malayalam ', 'not-malayalam ', 'not-malayalam ']\n",
      "['unknown_state ', 'unknown_state ', 'not-malayalam ']\n",
      "['unknown_state ', 'unknown_state ', 'unknown_state ']\n",
      "['unknown_state ', 'Mixed_feelings ', 'Mixed_feelings ']\n",
      "['Negative ', 'Negative ', 'Negative ']\n",
      "['Positive ', 'Positive ', 'Positive ']\n",
      "['Positive ', 'Positive ', 'Positive ']\n",
      "['Positive ', 'Positive ', 'Positive ']\n",
      "['Mixed_feelings ', 'Positive ', 'Positive ']\n",
      "['Positive ', 'Positive ', 'Positive ']\n",
      "['unknown_state ', 'unknown_state ', 'unknown_state ']\n",
      "['Positive ', 'Positive ', 'Positive ']\n",
      "['not-malayalam ', 'not-malayalam ', 'not-malayalam ']\n",
      "['unknown_state ', 'Positive ', 'unknown_state ']\n",
      "['Positive ', 'Positive ', 'Positive ']\n",
      "['unknown_state ', 'not-malayalam ', 'Positive ']\n",
      "['Mixed_feelings ', 'Mixed_feelings ', 'Positive ']\n"
     ]
    }
   ],
   "source": [
    "predf=[]\n",
    "for i in range(len(pred2)):\n",
    "  print([pred2[i],pred3[i],spreds[i]])\n",
    "  occurence_count = Counter([pred2[i],pred3[i],spreds[i]])\n",
    "  pred = occurence_count.most_common(1)[0][0]\n",
    "  predf.append(pred)"
   ]
  },
  {
   "cell_type": "code",
   "execution_count": null,
   "metadata": {
    "colab": {
     "base_uri": "https://localhost:8080/",
     "height": 225
    },
    "colab_type": "code",
    "executionInfo": {
     "elapsed": 1000,
     "status": "ok",
     "timestamp": 1597830807521,
     "user": {
      "displayName": "fan roid",
      "photoUrl": "",
      "userId": "13892271252083538728"
     },
     "user_tz": -330
    },
    "id": "Qv3pmeYEtTeS",
    "outputId": "51ca38e2-7f2c-4634-c9f7-2ba8dca7eed2"
   },
   "outputs": [
    {
     "name": "stdout",
     "output_type": "stream",
     "text": [
      "                 precision    recall  f1-score   support\n",
      "\n",
      "Mixed_feelings        0.62      0.11      0.19        44\n",
      "      Negative        0.67      0.47      0.55        51\n",
      "      Positive        0.67      0.83      0.74       224\n",
      " not-malayalam        0.78      0.83      0.81        60\n",
      " unknown_state        0.73      0.71      0.72       161\n",
      "\n",
      "       accuracy                           0.70       540\n",
      "      macro avg       0.70      0.59      0.60       540\n",
      "   weighted avg       0.70      0.70      0.68       540\n",
      "\n"
     ]
    }
   ],
   "source": [
    "#print(classification_report(test.category,predf))"
   ]
  },
  {
   "cell_type": "code",
   "execution_count": null,
   "metadata": {
    "colab": {
     "base_uri": "https://localhost:8080/",
     "height": 363
    },
    "colab_type": "code",
    "executionInfo": {
     "elapsed": 1062,
     "status": "ok",
     "timestamp": 1597832493934,
     "user": {
      "displayName": "fan roid",
      "photoUrl": "",
      "userId": "13892271252083538728"
     },
     "user_tz": -330
    },
    "id": "ploVMSk4BwrD",
    "outputId": "a855185c-1a4b-46c2-ed67-fbb7f86580fb"
   },
   "outputs": [
    {
     "data": {
      "text/html": [
       "<div>\n",
       "<style scoped>\n",
       "    .dataframe tbody tr th:only-of-type {\n",
       "        vertical-align: middle;\n",
       "    }\n",
       "\n",
       "    .dataframe tbody tr th {\n",
       "        vertical-align: top;\n",
       "    }\n",
       "\n",
       "    .dataframe thead th {\n",
       "        text-align: right;\n",
       "    }\n",
       "</style>\n",
       "<table border=\"1\" class=\"dataframe\">\n",
       "  <thead>\n",
       "    <tr style=\"text-align: right;\">\n",
       "      <th></th>\n",
       "      <th>id</th>\n",
       "      <th>text</th>\n",
       "    </tr>\n",
       "  </thead>\n",
       "  <tbody>\n",
       "    <tr>\n",
       "      <th>1338</th>\n",
       "      <td>ml_sen_1339</td>\n",
       "      <td>Lalettan paranjal kanathe pattume Lalettan ishtam</td>\n",
       "    </tr>\n",
       "    <tr>\n",
       "      <th>1339</th>\n",
       "      <td>ml_sen_1340</td>\n",
       "      <td>Taken Enna movie pole aavum enn thonnunnu</td>\n",
       "    </tr>\n",
       "    <tr>\n",
       "      <th>1340</th>\n",
       "      <td>ml_sen_1341</td>\n",
       "      <td>MINUTES MARANAMASS TRAILER KATTA WAITING MANJU...</td>\n",
       "    </tr>\n",
       "    <tr>\n",
       "      <th>1341</th>\n",
       "      <td>ml_sen_1342</td>\n",
       "      <td>Mammoonny Komali Loka tholvi Sammathikkunnavar...</td>\n",
       "    </tr>\n",
       "    <tr>\n",
       "      <th>1342</th>\n",
       "      <td>ml_sen_1343</td>\n",
       "      <td>Enta ponno eppolu ntha oru ethu</td>\n",
       "    </tr>\n",
       "    <tr>\n",
       "      <th>1343</th>\n",
       "      <td>ml_sen_1344</td>\n",
       "      <td>views and likes</td>\n",
       "    </tr>\n",
       "    <tr>\n",
       "      <th>1344</th>\n",
       "      <td>ml_sen_1345</td>\n",
       "      <td>Nasik doll tiltle bgm aane highlight</td>\n",
       "    </tr>\n",
       "    <tr>\n",
       "      <th>1345</th>\n",
       "      <td>ml_sen_1346</td>\n",
       "      <td>Mohanlalile ishtapetta vekthiyayirunnu njan pa...</td>\n",
       "    </tr>\n",
       "    <tr>\n",
       "      <th>1346</th>\n",
       "      <td>ml_sen_1347</td>\n",
       "      <td>ivaruku ivlo age nu sonna evan nambuvan</td>\n",
       "    </tr>\n",
       "    <tr>\n",
       "      <th>1347</th>\n",
       "      <td>ml_sen_1348</td>\n",
       "      <td>Kanditt Amala Paul Aadai tamil mattoru version...</td>\n",
       "    </tr>\n",
       "  </tbody>\n",
       "</table>\n",
       "</div>"
      ],
      "text/plain": [
       "               id                                               text\n",
       "1338  ml_sen_1339  Lalettan paranjal kanathe pattume Lalettan ishtam\n",
       "1339  ml_sen_1340          Taken Enna movie pole aavum enn thonnunnu\n",
       "1340  ml_sen_1341  MINUTES MARANAMASS TRAILER KATTA WAITING MANJU...\n",
       "1341  ml_sen_1342  Mammoonny Komali Loka tholvi Sammathikkunnavar...\n",
       "1342  ml_sen_1343                    Enta ponno eppolu ntha oru ethu\n",
       "1343  ml_sen_1344                                    views and likes\n",
       "1344  ml_sen_1345               Nasik doll tiltle bgm aane highlight\n",
       "1345  ml_sen_1346  Mohanlalile ishtapetta vekthiyayirunnu njan pa...\n",
       "1346  ml_sen_1347            ivaruku ivlo age nu sonna evan nambuvan\n",
       "1347  ml_sen_1348  Kanditt Amala Paul Aadai tamil mattoru version..."
      ]
     },
     "execution_count": 162,
     "metadata": {
      "tags": []
     },
     "output_type": "execute_result"
    }
   ],
   "source": [
    "test.tail(10)"
   ]
  },
  {
   "cell_type": "code",
   "execution_count": null,
   "metadata": {
    "colab": {
     "base_uri": "https://localhost:8080/",
     "height": 104
    },
    "colab_type": "code",
    "executionInfo": {
     "elapsed": 1155,
     "status": "ok",
     "timestamp": 1597832673798,
     "user": {
      "displayName": "fan roid",
      "photoUrl": "",
      "userId": "13892271252083538728"
     },
     "user_tz": -330
    },
    "id": "ByPtHMTjvg0i",
    "outputId": "9f2704a9-2a72-47e9-d55f-b66116e83a3f"
   },
   "outputs": [
    {
     "data": {
      "text/plain": [
       "{'Mixed_feelings ',\n",
       " 'Negative ',\n",
       " 'Positive ',\n",
       " 'not-malayalam ',\n",
       " 'unknown_state '}"
      ]
     },
     "execution_count": 173,
     "metadata": {
      "tags": []
     },
     "output_type": "execute_result"
    }
   ],
   "source": [
    "set(predf)"
   ]
  },
  {
   "cell_type": "code",
   "execution_count": null,
   "metadata": {
    "colab": {
     "base_uri": "https://localhost:8080/",
     "height": 34
    },
    "colab_type": "code",
    "executionInfo": {
     "elapsed": 1300,
     "status": "ok",
     "timestamp": 1597832701926,
     "user": {
      "displayName": "fan roid",
      "photoUrl": "",
      "userId": "13892271252083538728"
     },
     "user_tz": -330
    },
    "id": "je4O8lp7PkIv",
    "outputId": "d8fc3d91-422c-43d7-fc12-d5424b1a07c4"
   },
   "outputs": [
    {
     "data": {
      "text/plain": [
       "1348"
      ]
     },
     "execution_count": 176,
     "metadata": {
      "tags": []
     },
     "output_type": "execute_result"
    }
   ],
   "source": [
    "len(predf)"
   ]
  },
  {
   "cell_type": "code",
   "execution_count": null,
   "metadata": {
    "colab": {
     "base_uri": "https://localhost:8080/",
     "height": 34
    },
    "colab_type": "code",
    "executionInfo": {
     "elapsed": 1031,
     "status": "ok",
     "timestamp": 1597832607311,
     "user": {
      "displayName": "fan roid",
      "photoUrl": "",
      "userId": "13892271252083538728"
     },
     "user_tz": -330
    },
    "id": "-DmXIiLgPmp_",
    "outputId": "face01e5-3ed1-47dd-8b90-89adac2d2f1d"
   },
   "outputs": [
    {
     "data": {
      "text/plain": [
       "1348"
      ]
     },
     "execution_count": 166,
     "metadata": {
      "tags": []
     },
     "output_type": "execute_result"
    }
   ],
   "source": [
    "len(test)"
   ]
  },
  {
   "cell_type": "code",
   "execution_count": null,
   "metadata": {
    "colab": {},
    "colab_type": "code",
    "id": "Q1QEu0XoPUQx"
   },
   "outputs": [],
   "source": [
    "outdf=pd.DataFrame()\n",
    "outdf['text']=test.text\n",
    "outdf['label']=predf"
   ]
  },
  {
   "cell_type": "code",
   "execution_count": null,
   "metadata": {
    "colab": {
     "base_uri": "https://localhost:8080/",
     "height": 206
    },
    "colab_type": "code",
    "executionInfo": {
     "elapsed": 943,
     "status": "ok",
     "timestamp": 1597832715007,
     "user": {
      "displayName": "fan roid",
      "photoUrl": "",
      "userId": "13892271252083538728"
     },
     "user_tz": -330
    },
    "id": "L5OonsYSPg7O",
    "outputId": "41addf9c-b2d1-4b6e-a790-004d7a035eb2"
   },
   "outputs": [
    {
     "data": {
      "text/html": [
       "<div>\n",
       "<style scoped>\n",
       "    .dataframe tbody tr th:only-of-type {\n",
       "        vertical-align: middle;\n",
       "    }\n",
       "\n",
       "    .dataframe tbody tr th {\n",
       "        vertical-align: top;\n",
       "    }\n",
       "\n",
       "    .dataframe thead th {\n",
       "        text-align: right;\n",
       "    }\n",
       "</style>\n",
       "<table border=\"1\" class=\"dataframe\">\n",
       "  <thead>\n",
       "    <tr style=\"text-align: right;\">\n",
       "      <th></th>\n",
       "      <th>text</th>\n",
       "      <th>label</th>\n",
       "    </tr>\n",
       "  </thead>\n",
       "  <tbody>\n",
       "    <tr>\n",
       "      <th>0</th>\n",
       "      <td>Bollywood film Newton inte remake aano</td>\n",
       "      <td>unknown_state</td>\n",
       "    </tr>\n",
       "    <tr>\n",
       "      <th>1</th>\n",
       "      <td>endukond viewrs koodunnilla ippozhum aayitollu</td>\n",
       "      <td>unknown_state</td>\n",
       "    </tr>\n",
       "    <tr>\n",
       "      <th>2</th>\n",
       "      <td>Mara paazhu mega mairananil ninnum ethil koodu...</td>\n",
       "      <td>Mixed_feelings</td>\n",
       "    </tr>\n",
       "    <tr>\n",
       "      <th>3</th>\n",
       "      <td>Video nay cang xem cang thit</td>\n",
       "      <td>unknown_state</td>\n",
       "    </tr>\n",
       "    <tr>\n",
       "      <th>4</th>\n",
       "      <td>Sunny chechiye kaanan vannathu njan maathram aano</td>\n",
       "      <td>unknown_state</td>\n",
       "    </tr>\n",
       "  </tbody>\n",
       "</table>\n",
       "</div>"
      ],
      "text/plain": [
       "                                                text            label\n",
       "0             Bollywood film Newton inte remake aano   unknown_state \n",
       "1     endukond viewrs koodunnilla ippozhum aayitollu   unknown_state \n",
       "2  Mara paazhu mega mairananil ninnum ethil koodu...  Mixed_feelings \n",
       "3                       Video nay cang xem cang thit   unknown_state \n",
       "4  Sunny chechiye kaanan vannathu njan maathram aano   unknown_state "
      ]
     },
     "execution_count": 178,
     "metadata": {
      "tags": []
     },
     "output_type": "execute_result"
    }
   ],
   "source": [
    "outdf.head()"
   ]
  },
  {
   "cell_type": "code",
   "execution_count": null,
   "metadata": {
    "colab": {
     "base_uri": "https://localhost:8080/",
     "height": 104
    },
    "colab_type": "code",
    "executionInfo": {
     "elapsed": 902,
     "status": "ok",
     "timestamp": 1597832733487,
     "user": {
      "displayName": "fan roid",
      "photoUrl": "",
      "userId": "13892271252083538728"
     },
     "user_tz": -330
    },
    "id": "k-3ihqXRQFa0",
    "outputId": "2f416460-e847-440e-f711-aa97d6b885c0"
   },
   "outputs": [
    {
     "data": {
      "text/plain": [
       "{'Mixed_feelings ',\n",
       " 'Negative ',\n",
       " 'Positive ',\n",
       " 'not-malayalam ',\n",
       " 'unknown_state '}"
      ]
     },
     "execution_count": 179,
     "metadata": {
      "tags": []
     },
     "output_type": "execute_result"
    }
   ],
   "source": [
    "set(outdf.label)"
   ]
  },
  {
   "cell_type": "code",
   "execution_count": null,
   "metadata": {
    "colab": {},
    "colab_type": "code",
    "id": "GZMfxQNOQJ8B"
   },
   "outputs": [],
   "source": [
    "\n",
    "outdf.to_csv('/content/drive/My Drive/SentimentFire/outputs/MUCS_malayalam.tsv',sep='\\t')"
   ]
  },
  {
   "cell_type": "code",
   "execution_count": null,
   "metadata": {
    "colab": {},
    "colab_type": "code",
    "id": "RAsKZAiEQqLA"
   },
   "outputs": [],
   "source": []
  }
 ],
 "metadata": {
  "accelerator": "GPU",
  "colab": {
   "authorship_tag": "ABX9TyONYtJi3XrEQNuYzxXDVULs",
   "collapsed_sections": [],
   "mount_file_id": "1BPeTvSeQvOrthEMX4LOaDKroeAtfRHh0",
   "name": "subwords embedding with BiLSTM code-mixed sentiment analysis.ipynb",
   "provenance": []
  },
  "kernelspec": {
   "display_name": "Python 3",
   "language": "python",
   "name": "python3"
  },
  "language_info": {
   "codemirror_mode": {
    "name": "ipython",
    "version": 3
   },
   "file_extension": ".py",
   "mimetype": "text/x-python",
   "name": "python",
   "nbconvert_exporter": "python",
   "pygments_lexer": "ipython3",
   "version": "3.7.3"
  }
 },
 "nbformat": 4,
 "nbformat_minor": 1
}
